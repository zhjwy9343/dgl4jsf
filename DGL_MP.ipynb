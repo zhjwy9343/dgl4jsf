{
 "cells": [
  {
   "cell_type": "markdown",
   "id": "2adca29c",
   "metadata": {},
   "source": [
    "# DGL中的消息传递（message passing） "
   ]
  },
  {
   "cell_type": "markdown",
   "id": "c1eed72f",
   "metadata": {},
   "source": [
    "## 什么是message passing"
   ]
  },
  {
   "cell_type": "markdown",
   "id": "4f4288a3",
   "metadata": {},
   "source": [
    "《Neural Message Passing for Quantum Chemistry》一文首先提出了message passing的框架，其基本思想是：对于图中任一节点$v$, 可以通过聚合$v$的邻居的信息计算$v$的隐含层状态。\n",
    "下图展示了在有向图和无向图中message passing的过程。对于有向图，信息从源节点传递到汇节点；\n",
    "对于无向图，由于边没有方向，因此两节点之间只要有边就会进行信息传递。我们也可以把每条无向边看作两条有向边，按照有向图的流程理解message passing在无向图中传播的方向。"
   ]
  },
  {
   "cell_type": "markdown",
   "id": "2ec3a79c",
   "metadata": {},
   "source": [
    "<img src='mp.png' width=100%>"
   ]
  },
  {
   "cell_type": "markdown",
   "id": "f8b8d0a9",
   "metadata": {},
   "source": [
    "## DGL的消息传递范式\n",
    "对于节点$v$, 假设其特征$x_v \\in \\mathbb{R^{d_1}}$, 边$(u, v)$上的特征为$w_e \\in  \\mathbb{R^{d_2}}$。消息传递范式定义了以下节点和边上的计算：\n",
    "\n",
    "边上计算：${m_e}^{(t+1)} = \\phi({x_v}^{(t)}, {x_u}^{(t)}, {m_e}^{(t)}), (u, v, e) \\in \\varepsilon $.\n",
    "\n",
    "点上计算：${x_v}^{(t+1)} = \\psi({x_v}^{(t)}, \\rho( \\{{m_e}^{(t+1)},(u, v, e) \\in \\varepsilon \\} ))$.\n",
    "\n",
    "\n",
    "在等式中，$\\phi$是定义在边上的消息函数，它通过将边上的特征${m_e}^{(t)}$与其两端的节点特征${x_v}^{(t)}, {x_u}^{(t)}$结合起来产生消息，最简单的$\\phi$可以选择sum，此时的边上计算公式变为${m_e}^{(t+1)} = {x_v}^{(t)} + {x_u}^{(t)} + {m_e}^{(t)},(u, v, e) \\in \\varepsilon $。对于节点上的计算，$\\rho$是聚合函数，它聚合节点$v$的邻居信息，$\\psi$是更新函数，它会结合聚合后的信息和节点本省的特征来更新节点特征。"
   ]
  },
  {
   "cell_type": "markdown",
   "id": "b8f49898-5082-44b7-a29e-2a0eee01a7aa",
   "metadata": {},
   "source": [
    "##  DGL消息传递计算的API"
   ]
  },
  {
   "cell_type": "markdown",
   "id": "c6658f91-5791-4fe9-a5aa-0c19d9fce729",
   "metadata": {},
   "source": [
    "### apply_edges\n",
    "\n",
    "因为在图上，节点的邻居数量是不确定的。所以对于MP的模式，我们不太容易使用张量计算的方式来做。如果对节点用for循环，速度会非常得慢。对此，DGL设计了专门的API来方便进行消息传递范式的计算。\n",
    "\n",
    "其中针对图中边的计算`apply_edges`是最基础的API之一，关于这个API的文档说明在[这里](https://docs.dgl.ai/generated/dgl.DGLGraph.apply_edges.html?highlight=apply_edges)。\n",
    "\n",
    "`apply_edges`使用特定的计算函数，比如DGL内置的一些函数（`dgl.function`），或者用户自定义的函数，来完成针对边上特征的计算。DGL提供了很多内置的计算函数，比如`u_add_v`,`u_dot_e`等等，具体可参考[nn.function](https://docs.dgl.ai/api/python/dgl.function.html#dgl-built-in-function)。\n",
    "\n",
    "下面这个例子里，我们实现了把源节点和目标节点上的特征（key是'h',value是2维，都是1）相加，并放到边上作为特征(key是'm')。"
   ]
  },
  {
   "cell_type": "code",
   "execution_count": 6,
   "id": "ed024d39-afcc-4785-a21b-2ba314d5d8da",
   "metadata": {},
   "outputs": [
    {
     "name": "stdout",
     "output_type": "stream",
     "text": [
      "tensor([[2., 2.],\n",
      "        [2., 2.],\n",
      "        [2., 2.],\n",
      "        [2., 2.],\n",
      "        [2., 2.]])\n"
     ]
    }
   ],
   "source": [
    "import dgl\n",
    "import torch as th\n",
    "\n",
    "g = dgl.graph(([0,1,2,0,1], [3,2,1,2,0]))\n",
    "g.ndata['h'] = th.ones(4,2)\n",
    "g.apply_edges(dgl.function.u_add_v('h', 'h', 'm'))\n",
    "print(g.edata['m'])"
   ]
  },
  {
   "cell_type": "markdown",
   "id": "0feee274-de33-49b7-82eb-0034d2593e4b",
   "metadata": {},
   "source": [
    "### update_all\n",
    "\n",
    "因为在图上，节点的邻居数量是不确定的。所以对于MP的模式，我们不太容易使用张量计算的方式来做。如果对节点用for循环，速度会非常得慢。对此，DGL设计了专门的API来方便进行消息传递范式的计算。\n",
    "\n",
    "其中最常用的API就是`dgl.DGLGraph.update_all()`，关于这个API的文档说明在[这里](https://docs.dgl.ai/generated/dgl.DGLGraph.update_all.html?highlight=update_all#)。\n",
    "\n",
    "`update_all`接口里有两个必须的函数：`message_func`和`reduce_func`， 其调用方式为`graph.update_all(message_func, reduce_func)`。"
   ]
  },
  {
   "cell_type": "markdown",
   "id": "d72d3328",
   "metadata": {},
   "source": [
    "`message_func`（消息函数）实现的是边上计算的步骤，它接受一个参数 `edges`，这是一个`EdgeBatch`的实例，在消息传递时，它被dgl在内部生成以表示一批边。 `edges`有`src`、 `dst`和`data`共3个成员属性，分别用于访问源节点、目标节点和边的特征。\n",
    "\n",
    "用户可以根据需要实现的边上计算公式，设计不同的`message_func`，例如，若我们在边上计算步骤希望实现把源节点（src node)的特征`hu`与目标节点（dst node）的特征`hv`相加，可以定义如下的`message_func`，其输入为edges（dgl的`EdgeBatch`实例），输出为一个字典，键为`he`（我们自定义的名称），值为计算出的`edges`的feature。在dgl中，消息的内置函数的命名约定是`u`表示源节点， `v`表示目标节点，`e`表示边。"
   ]
  },
  {
   "cell_type": "code",
   "execution_count": 1,
   "id": "af943c0a",
   "metadata": {},
   "outputs": [],
   "source": [
    "def message_func(edges):\n",
    "     return {'he': edges.src['hu'] + edges.dst['hv']}"
   ]
  },
  {
   "cell_type": "markdown",
   "id": "db71f382",
   "metadata": {},
   "source": [
    "该函数等价于 `dgl.function.u_add_v('hu', 'hv', 'he')`，第一二个参数分别为src和dst node的特征名称，第三个参数表示计算得到的feture被储存在`he`这个键对应的值中。"
   ]
  },
  {
   "cell_type": "markdown",
   "id": "1a70a966",
   "metadata": {},
   "source": [
    "`reduce_func`（聚合函数）实现的是点上计算的步骤，它接受一个参数`nodes`，这是一个`NodeBatch`的实例， 在消息传递时，它被DGL在内部生成以表示一批节点。\n",
    "`nodes`的成员属性`mailbox`可以用来访问节点收到的消息。 一些最常见的聚合操作包括 sum、max、min 等。\n",
    "同理，用户可以自定义该函数，如下定义的`reduce_func`实现了将节点收到的信息相加，得到节点新的状态，并存储到`h`这个feature中。"
   ]
  },
  {
   "cell_type": "code",
   "execution_count": 1,
   "id": "e6e4bd2b",
   "metadata": {},
   "outputs": [
    {
     "name": "stderr",
     "output_type": "stream",
     "text": [
      "/home/studio-lab-user/.conda/envs/dgl/lib/python3.7/site-packages/tqdm/auto.py:22: TqdmWarning: IProgress not found. Please update jupyter and ipywidgets. See https://ipywidgets.readthedocs.io/en/stable/user_install.html\n",
      "  from .autonotebook import tqdm as notebook_tqdm\n"
     ]
    }
   ],
   "source": [
    "import torch as th\n",
    "def reduce_func(nodes):\n",
    "     return {'h': th.sum(nodes.mailbox['m'], dim=1)}"
   ]
  },
  {
   "cell_type": "markdown",
   "id": "d3b5c3b3",
   "metadata": {},
   "source": [
    "该函数等价为`dgl.function.sum('m', 'h')`，其中第一个参数指定 mailbox 中的字段名，第二个参数表示目标节点特征的字段名。"
   ]
  },
  {
   "cell_type": "markdown",
   "id": "f13cd31d",
   "metadata": {},
   "source": [
    "`update_all`函数完整的调用过程如下，这个例子实现了将src（源节点）名为`ft`的feature和edge(边)名为`a`的feature相乘（u_mul_e）生成信息`m`，而后将节点收到的信息（也即`nodes.mailbox['m']`中的信息）相加，并存储为名为`ft`的feature。"
   ]
  },
  {
   "cell_type": "code",
   "execution_count": 3,
   "id": "a8b7c910",
   "metadata": {},
   "outputs": [],
   "source": [
    "import dgl.function as fn \n",
    "def update(graph):\n",
    "    graph.update_all(fn.u_mul_e('ft', 'a', 'm'), fn.sum('m', 'ft'))"
   ]
  },
  {
   "cell_type": "markdown",
   "id": "fdca6dd8",
   "metadata": {},
   "source": [
    "### multi_update_all"
   ]
  },
  {
   "cell_type": "markdown",
   "id": "8ddf312b",
   "metadata": {},
   "source": [
    "异构图上的消息传递可以分为两个部分：\n",
    "\n",
    "（1）对每个关系计算和聚合消息，\n",
    "\n",
    "（2）对每个结点聚合来自不同关系的消息。\n"
   ]
  },
  {
   "cell_type": "markdown",
   "id": "21089f11",
   "metadata": {},
   "source": [
    "在DGL中，对异构图进行消息传递的接口是 `multi_update_all`。 \n",
    "`multi_update_all`接受一个字典。这个字典的每一个键值对里，键是一种关系， 值是这种关系对应`update_all`的参数。 \n",
    "`multi_update_all`还接受一个字符串来表示跨类型整合函数，来指定整合不同关系聚合结果的方式。 \n",
    "这个整合方式可以是 sum、 min、 max、 mean 和 stack 中的一个。以下是一个例子："
   ]
  },
  {
   "cell_type": "code",
   "execution_count": 5,
   "id": "9a7c8ca3",
   "metadata": {},
   "outputs": [],
   "source": [
    "import dgl.function as fn\n",
    "def multi_update_all(hgraph):\n",
    "    for c_etype in hgraph.canonical_etypes:\n",
    "        # 遍历异构图中所有的关系类型\n",
    "        srctype, etype, dsttype = c_etype\n",
    "        Wh = self.weight[etype](feat_dict[srctype])\n",
    "        # 把它存在图中用来做消息传递\n",
    "        hgraph.nodes[srctype].data['Wh_%s' % etype] = Wh\n",
    "        # 指定每个关系的消息传递函数：(message_func, reduce_func).\n",
    "        # 注意结果保存在同一个目标特征“h”，说明聚合是逐类进行的。\n",
    "        funcs[etype] = (fn.copy_u('Wh_%s' % etype, 'm'), fn.mean('m', 'h'))\n",
    "    # 将每个类型消息聚合的结果相加。\n",
    "    hgraph.multi_update_all(funcs, 'sum')\n",
    "    # 返回更新过的节点特征字典\n",
    "    return {ntype : hgraph.nodes[ntype].data['h'] for ntype in hgraph.ntypes}"
   ]
  },
  {
   "cell_type": "code",
   "execution_count": null,
   "id": "452b4dce-3401-4d4b-9278-70bb092c0915",
   "metadata": {},
   "outputs": [],
   "source": []
  }
 ],
 "metadata": {
  "kernelspec": {
   "display_name": "dgl:Python",
   "language": "python",
   "name": "conda-env-dgl-py"
  },
  "language_info": {
   "codemirror_mode": {
    "name": "ipython",
    "version": 3
   },
   "file_extension": ".py",
   "mimetype": "text/x-python",
   "name": "python",
   "nbconvert_exporter": "python",
   "pygments_lexer": "ipython3",
   "version": "3.9.13"
  }
 },
 "nbformat": 4,
 "nbformat_minor": 5
}
