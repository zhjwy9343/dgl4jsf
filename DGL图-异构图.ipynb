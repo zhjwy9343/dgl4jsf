{
 "cells": [
  {
   "cell_type": "markdown",
   "metadata": {},
   "source": [
    "# DGL图的基本概念和操作"
   ]
  },
  {
   "cell_type": "markdown",
   "metadata": {},
   "source": [
    "## 异构图"
   ]
  },
  {
   "cell_type": "markdown",
   "metadata": {},
   "source": [
    "实际业务中要处理的数据绝大部分是异构图。这里我们用下面这张图的异构图来作为例子演示如何构建异构的DGL图。\n",
    "\n",
    "<img src='heterogeneous_graph.png' width=60%>"
   ]
  },
  {
   "cell_type": "markdown",
   "metadata": {},
   "source": [
    "该图中包含了用户，视频这两种点，以及关注，转发，点赞，收藏四种关系。其中，用户有active(活跃）和inactive（不活跃）两种标签，用户与用户之间的关系有亲密（close）和不亲密（notclose）两种标签。"
   ]
  },
  {
   "cell_type": "markdown",
   "metadata": {},
   "source": [
    "下面，我们将演示如何从数据中构建异质图。首先，我们从csv文件中读取数据，包括用户（node）信息，视频（node）信息，以及四种边（关注，转发，点赞，收藏）的信息。"
   ]
  },
  {
   "cell_type": "code",
   "execution_count": 9,
   "metadata": {},
   "outputs": [
    {
     "name": "stdout",
     "output_type": "stream",
     "text": [
      "Index(['UID', 'gender', 'age', 'education', 'favorate', 'followers', 'label'], dtype='object')\n",
      "Index(['VID', 'likes', 'forwards', 'timestamp'], dtype='object')\n"
     ]
    },
    {
     "data": {
      "text/html": [
       "<div>\n",
       "<style scoped>\n",
       "    .dataframe tbody tr th:only-of-type {\n",
       "        vertical-align: middle;\n",
       "    }\n",
       "\n",
       "    .dataframe tbody tr th {\n",
       "        vertical-align: top;\n",
       "    }\n",
       "\n",
       "    .dataframe thead th {\n",
       "        text-align: right;\n",
       "    }\n",
       "</style>\n",
       "<table border=\"1\" class=\"dataframe\">\n",
       "  <thead>\n",
       "    <tr style=\"text-align: right;\">\n",
       "      <th></th>\n",
       "      <th>UID</th>\n",
       "      <th>gender</th>\n",
       "      <th>age</th>\n",
       "      <th>education</th>\n",
       "      <th>favorate</th>\n",
       "      <th>followers</th>\n",
       "      <th>label</th>\n",
       "    </tr>\n",
       "  </thead>\n",
       "  <tbody>\n",
       "    <tr>\n",
       "      <th>0</th>\n",
       "      <td>101</td>\n",
       "      <td>F</td>\n",
       "      <td>18</td>\n",
       "      <td>college</td>\n",
       "      <td>movie</td>\n",
       "      <td>19</td>\n",
       "      <td>inactive</td>\n",
       "    </tr>\n",
       "    <tr>\n",
       "      <th>1</th>\n",
       "      <td>102</td>\n",
       "      <td>M</td>\n",
       "      <td>38</td>\n",
       "      <td>college</td>\n",
       "      <td>exercise</td>\n",
       "      <td>300</td>\n",
       "      <td>active</td>\n",
       "    </tr>\n",
       "    <tr>\n",
       "      <th>2</th>\n",
       "      <td>103</td>\n",
       "      <td>M</td>\n",
       "      <td>19</td>\n",
       "      <td>college</td>\n",
       "      <td>music</td>\n",
       "      <td>294</td>\n",
       "      <td>inactive</td>\n",
       "    </tr>\n",
       "    <tr>\n",
       "      <th>3</th>\n",
       "      <td>104</td>\n",
       "      <td>M</td>\n",
       "      <td>17</td>\n",
       "      <td>high school</td>\n",
       "      <td>music</td>\n",
       "      <td>499</td>\n",
       "      <td>active</td>\n",
       "    </tr>\n",
       "  </tbody>\n",
       "</table>\n",
       "</div>"
      ],
      "text/plain": [
       "   UID gender  age    education  favorate  followers     label\n",
       "0  101      F   18      college     movie         19  inactive\n",
       "1  102      M   38      college  exercise        300    active\n",
       "2  103      M   19      college     music        294  inactive\n",
       "3  104      M   17  high school     music        499    active"
      ]
     },
     "execution_count": 9,
     "metadata": {},
     "output_type": "execute_result"
    }
   ],
   "source": [
    "import pandas as pd\n",
    "import torch as th\n",
    "import dgl\n",
    "import numpy as np\n",
    "\n",
    "df_user     = pd.read_csv('raw_data/hetero_data/user_hetero.csv')\n",
    "df_video    = pd.read_csv('raw_data/hetero_data/video_hetero.csv')\n",
    "df_follow   = pd.read_csv('raw_data/hetero_data/user_user_follow.csv')\n",
    "df_forward  = pd.read_csv('raw_data/hetero_data/user_video_forward.csv')\n",
    "df_thumb    = pd.read_csv('raw_data/hetero_data/user_video_thumb.csv')\n",
    "df_save     = pd.read_csv('raw_data/hetero_data/user_video_save.csv')\n",
    "print(df_user.keys())\n",
    "print(df_video.keys())\n",
    "df_user.head(4)"
   ]
  },
  {
   "cell_type": "markdown",
   "metadata": {},
   "source": [
    "### 将节点编号从0重排"
   ]
  },
  {
   "cell_type": "markdown",
   "metadata": {},
   "source": [
    "类似于同质图，我们也需要对对Node ID从0开始重新排序以满足dgl对于数据要求。注意这里，用户和视频都从0开始排序。"
   ]
  },
  {
   "cell_type": "code",
   "execution_count": 10,
   "metadata": {},
   "outputs": [],
   "source": [
    "user_mapping = {idx: i for i, idx in enumerate(df_user['UID'].unique())}\n",
    "num_users = len(user_mapping)\n",
    "\n",
    "video_mapping = {idx: i for i, idx in enumerate(df_video['VID'].unique())}\n",
    "num_video = len(video_mapping)\n",
    "\n",
    "df_dict = {'forward': df_forward, 'thumb':df_thumb, 'save':df_save} # df_follow单独处理"
   ]
  },
  {
   "cell_type": "markdown",
   "metadata": {},
   "source": [
    "### 根据边列表创建图结构"
   ]
  },
  {
   "cell_type": "markdown",
   "metadata": {},
   "source": [
    "下面，我们创建边列表，由于图中包含关注，转发，点赞，收藏四种边，为了进行区分，我们需要对每一种边都创建单独的列表，因此我们用字典来存储。"
   ]
  },
  {
   "cell_type": "code",
   "execution_count": 11,
   "metadata": {},
   "outputs": [],
   "source": [
    "edge_dict = {}\n",
    "for relation, df in df_dict.items():\n",
    "    src = [user_mapping[idx] for idx in df['UID']] # 起始节点\n",
    "    dst = [video_mapping[idx] for idx in df['VID']] # 终止节点\n",
    "    edge_dict[relation] =  (th.tensor(src), th.tensor(dst))\n",
    "\n",
    "src = [user_mapping[idx] for idx in df_follow['UID1']] \n",
    "dst = [user_mapping[idx] for idx in df_follow['UID2']] \n",
    "edge_dict[\"follow\"] =  (th.tensor(src), th.tensor(dst))"
   ]
  },
  {
   "cell_type": "markdown",
   "metadata": {},
   "source": [
    "dgl中，我们用dgl.heterograph(）建立异质图，其输入为包含边类型和边数据的字典。"
   ]
  },
  {
   "cell_type": "code",
   "execution_count": 12,
   "metadata": {},
   "outputs": [
    {
     "name": "stdout",
     "output_type": "stream",
     "text": [
      "Graph(num_nodes={'user': 7, 'video': 7},\n",
      "      num_edges={('user', 'follow', 'user'): 4, ('user', 'forward', 'video'): 4, ('user', 'save', 'video'): 4, ('user', 'thumb', 'video'): 8},\n",
      "      metagraph=[('user', 'user', 'follow'), ('user', 'video', 'forward'), ('user', 'video', 'save'), ('user', 'video', 'thumb')])\n"
     ]
    }
   ],
   "source": [
    "graph_data = {\n",
    "   ('user', 'follow', 'user'): edge_dict['follow'],\n",
    "   ('user', 'forward', 'video'): edge_dict['forward'],\n",
    "   ('user', 'save', 'video'): edge_dict['save'],\n",
    "   ('user', 'thumb', 'video'): edge_dict['thumb']\n",
    "}\n",
    "g = dgl.heterograph(graph_data)\n",
    "print(g)"
   ]
  },
  {
   "cell_type": "markdown",
   "metadata": {},
   "source": [
    "### 处理节点和边的特征"
   ]
  },
  {
   "cell_type": "markdown",
   "metadata": {},
   "source": [
    "类似于同质图，我们处理用户的feature信息"
   ]
  },
  {
   "cell_type": "code",
   "execution_count": 14,
   "metadata": {},
   "outputs": [
    {
     "name": "stdout",
     "output_type": "stream",
     "text": [
      "all_feature_user torch.Size([7, 9])\n"
     ]
    }
   ],
   "source": [
    "feature_list = []\n",
    "for key in ['gender', 'education', 'favorate']: # one hot\n",
    "    value = df_user[key].str.get_dummies('|').values \n",
    "    value= th.from_numpy(value).to(th.float) \n",
    "    feature_list.append(value)\n",
    "    \n",
    "for key in ['age', 'followers']: # normalize\n",
    "    value = df_user[key].values\n",
    "    value= th.from_numpy(value).to(th.float).unsqueeze(0)\n",
    "    value = value/max(value[0]) # normalize\n",
    "    feature_list.append(value.permute(1, 0))\n",
    "    \n",
    "all_feature_user = th.cat(feature_list, dim=1)\n",
    "print('all_feature_user', all_feature_user.shape)"
   ]
  },
  {
   "cell_type": "markdown",
   "metadata": {},
   "source": [
    "同上，我们处理video的feature信息。"
   ]
  },
  {
   "cell_type": "code",
   "execution_count": 15,
   "metadata": {},
   "outputs": [
    {
     "name": "stdout",
     "output_type": "stream",
     "text": [
      "torch.Size([7, 3])\n"
     ]
    }
   ],
   "source": [
    "feature_list = []\n",
    "for key in ['likes', 'forwards', 'timestamp']:\n",
    "    value = df_video[key].values\n",
    "    value= th.from_numpy(value).to(th.float).unsqueeze(0)\n",
    "    value = value/max(value[0]) # normalize\n",
    "    feature_list.append(value.permute(1, 0))\n",
    "    \n",
    "all_feature_video = th.cat(feature_list, dim=1)\n",
    "print(all_feature_video.shape)"
   ]
  },
  {
   "cell_type": "markdown",
   "metadata": {},
   "source": [
    "### 处理节点和边的标签"
   ]
  },
  {
   "cell_type": "code",
   "execution_count": 22,
   "metadata": {},
   "outputs": [
    {
     "name": "stdout",
     "output_type": "stream",
     "text": [
      "user label tensor([1., 0., 1., 0., 0., 1., 1.])\n"
     ]
    }
   ],
   "source": [
    "value = df_user['label'].str.get_dummies('|').values \n",
    "value = np.where(value>0)[1]\n",
    "node_label = th.from_numpy(value).to(th.float) \n",
    "print('user label',node_label)"
   ]
  },
  {
   "cell_type": "code",
   "execution_count": 23,
   "metadata": {},
   "outputs": [
    {
     "name": "stdout",
     "output_type": "stream",
     "text": [
      "edge label tensor([0., 1., 1., 0.])\n"
     ]
    }
   ],
   "source": [
    "value = df_follow['label'].str.get_dummies('|').values \n",
    "value = np.where(value>0)[1]\n",
    "edge_label = th.from_numpy(value).to(th.float) \n",
    "print('edge label',edge_label)"
   ]
  },
  {
   "cell_type": "markdown",
   "metadata": {},
   "source": [
    "以上，我们完成了读取数据、将节点编号重排、提取所有类型的边、提取节点信息，下面我们将这些数据放入图中。"
   ]
  },
  {
   "cell_type": "markdown",
   "metadata": {},
   "source": [
    "建立图后，我们可以查看图中的各种信息。例如，用g.nodes['user'].data['feature']可以访问user节点的特征信息。"
   ]
  },
  {
   "cell_type": "code",
   "execution_count": 25,
   "metadata": {},
   "outputs": [
    {
     "name": "stdout",
     "output_type": "stream",
     "text": [
      "tensor([0, 1, 2, 3, 4, 5, 6])\n",
      "['user', 'video']\n",
      "['follow', 'forward', 'save', 'thumb']\n",
      "[('user', 'follow', 'user'), ('user', 'forward', 'video'), ('user', 'save', 'video'), ('user', 'thumb', 'video')]\n"
     ]
    }
   ],
   "source": [
    "print(g.nodes('video'))\n",
    "print(g.ntypes)\n",
    "print(g.etypes)\n",
    "print(g.canonical_etypes)\n",
    "g.nodes['user'].data['feature'] = all_feature_user\n",
    "g.nodes['video'].data['video_feature'] = all_feature_video\n",
    "g.nodes['user'].data['label'] = node_label\n",
    "g.edges['follow'].data['label'] = edge_label"
   ]
  },
  {
   "cell_type": "markdown",
   "metadata": {},
   "source": [
    "### 保存图"
   ]
  },
  {
   "cell_type": "code",
   "execution_count": 26,
   "metadata": {},
   "outputs": [],
   "source": [
    "from dgl.data.utils import save_graphs, load_graphs\n",
    "\n",
    "hetero_local_path = 'hetero_dgl.bin'\n",
    "save_graphs(hetero_local_path, [g])"
   ]
  },
  {
   "cell_type": "markdown",
   "metadata": {},
   "source": [
    "### 加载图"
   ]
  },
  {
   "cell_type": "code",
   "execution_count": 27,
   "metadata": {},
   "outputs": [
    {
     "name": "stdout",
     "output_type": "stream",
     "text": [
      "([Graph(num_nodes={'user': 7, 'video': 7},\n",
      "      num_edges={('user', 'follow', 'user'): 4, ('user', 'forward', 'video'): 4, ('user', 'save', 'video'): 4, ('user', 'thumb', 'video'): 8},\n",
      "      metagraph=[('user', 'user', 'follow'), ('user', 'video', 'forward'), ('user', 'video', 'save'), ('user', 'video', 'thumb')])], {})\n"
     ]
    }
   ],
   "source": [
    "graph = load_graphs(hetero_local_path)\n",
    "print(graph)"
   ]
  },
  {
   "cell_type": "code",
   "execution_count": null,
   "metadata": {},
   "outputs": [],
   "source": []
  }
 ],
 "metadata": {
  "kernelspec": {
   "display_name": "default:Python",
   "language": "python",
   "name": "conda-env-default-py"
  },
  "language_info": {
   "codemirror_mode": {
    "name": "ipython",
    "version": 3
   },
   "file_extension": ".py",
   "mimetype": "text/x-python",
   "name": "python",
   "nbconvert_exporter": "python",
   "pygments_lexer": "ipython3",
   "version": "3.9.9"
  }
 },
 "nbformat": 4,
 "nbformat_minor": 4
}
