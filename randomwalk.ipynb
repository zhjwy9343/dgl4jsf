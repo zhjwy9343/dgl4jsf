{
 "cells": [
  {
   "cell_type": "markdown",
   "id": "6c6e5740-ea61-4cae-acb3-82bba283aece",
   "metadata": {},
   "source": [
    "## Random Walk 解析\n",
    "\n",
    "这里，我们理解一下DGL里关于在异构图上进行随机游走的API，观察随机游走产生的metapath的情况。\n",
    "\n",
    "<img src='heterogeneous_graph.png' width=40%>"
   ]
  },
  {
   "cell_type": "code",
   "execution_count": 10,
   "id": "2931f371-6603-4a4c-8491-9bb8deb0c4b1",
   "metadata": {},
   "outputs": [],
   "source": [
    "import dgl\n",
    "from dgl.sampling import random_walk"
   ]
  },
  {
   "cell_type": "markdown",
   "id": "53b513ec-8be5-4476-b471-d88191e06252",
   "metadata": {},
   "source": [
    "#### 导入保存的异构图"
   ]
  },
  {
   "cell_type": "code",
   "execution_count": 3,
   "id": "784241a8-3189-4897-aa6f-72ec1366ddc9",
   "metadata": {},
   "outputs": [],
   "source": [
    "graphs, _ = dgl.load_graphs('./hetero_dgl.bin')\n",
    "graph = graphs[0]"
   ]
  },
  {
   "cell_type": "code",
   "execution_count": 5,
   "id": "9ceb9a4d-e5f0-40bf-ae72-f7b7d2aa1b5d",
   "metadata": {},
   "outputs": [
    {
     "name": "stdout",
     "output_type": "stream",
     "text": [
      "Graph(num_nodes={'company': 3, 'product': 8},\n",
      "      num_edges={('company', 'produce', 'product'): 8, ('company', 'suppliedby', 'company'): 3, ('company', 'supply', 'company'): 3, ('product', 'downstream', 'product'): 7, ('product', 'producedby', 'company'): 8, ('product', 'upstream', 'product'): 7},\n",
      "      metagraph=[('company', 'product', 'produce'), ('company', 'company', 'suppliedby'), ('company', 'company', 'supply'), ('product', 'product', 'downstream'), ('product', 'product', 'upstream'), ('product', 'company', 'producedby')])\n"
     ]
    }
   ],
   "source": [
    "print(graph)"
   ]
  },
  {
   "cell_type": "markdown",
   "id": "c586cf86-2462-4c07-91a2-22f72da6233f",
   "metadata": {},
   "source": [
    "### 设定metapath的schema\n",
    "\n",
    "在异构图里，随机游走一般会遵循一些有业务意义的路径(metapath)。定义这些metapath需要结合实际业务和需求来确定。这种metapath的类型叫schema。在我们这个样例图里面，从公司的角度出发，可以定义一种metapath的schema，即：公司-〈生产〉-产品-〈下游〉-产品-〈被生产〉-公司。我们这里使用这个schema来进行随机游走。\n",
    "\n",
    "对于游走的出发点，我们选择公司`comp_2`。它的点ID是1。我们对它进行2次随机游走。"
   ]
  },
  {
   "cell_type": "code",
   "execution_count": 6,
   "id": "142db9c8-9b68-43fb-bd28-ad033734611c",
   "metadata": {},
   "outputs": [],
   "source": [
    "trace,_ = random_walk(graph, [1] * 7, metapath=['produce', 'downstream', 'producedby'])"
   ]
  },
  {
   "cell_type": "code",
   "execution_count": 7,
   "id": "ad6b604c-dde4-4d9d-8dfc-89ca2d1510b9",
   "metadata": {},
   "outputs": [
    {
     "data": {
      "text/plain": [
       "tensor([[1, 4, 1, 0],\n",
       "        [1, 3, 4, 1],\n",
       "        [1, 5, 4, 1],\n",
       "        [1, 4, 6, 2],\n",
       "        [1, 4, 1, 0],\n",
       "        [1, 4, 6, 2],\n",
       "        [1, 3, 4, 1]])"
      ]
     },
     "execution_count": 7,
     "metadata": {},
     "output_type": "execute_result"
    }
   ],
   "source": [
    "trace"
   ]
  },
  {
   "cell_type": "markdown",
   "id": "fa512e8d-0aa3-4ce1-b748-6e279daca2ea",
   "metadata": {},
   "source": [
    "对于相同的metapath，我们还可以进行更多跳的游走。比如下面的例子里，我们就让 公司-〈生产〉-产品-〈下游〉-产品-〈被生产〉-公司 这个路径再多走一遍。实现也很简单，就是在metapath那里再复制一遍路径即可。"
   ]
  },
  {
   "cell_type": "code",
   "execution_count": 8,
   "id": "2f07b6bc-e9b2-430d-a275-aa113ce7934c",
   "metadata": {},
   "outputs": [],
   "source": [
    "trace2,_ = random_walk(graph, [1] * 7, metapath=['produce', 'downstream', 'producedby']*2)"
   ]
  },
  {
   "cell_type": "code",
   "execution_count": 9,
   "id": "dc342c4a-9d51-4eef-b95c-1b228c1f3589",
   "metadata": {},
   "outputs": [
    {
     "data": {
      "text/plain": [
       "tensor([[ 1,  5,  4,  1,  4,  1,  0],\n",
       "        [ 1,  3,  4,  1,  5,  4,  1],\n",
       "        [ 1,  4,  6,  2,  7, -1, -1],\n",
       "        [ 1,  4,  1,  0,  2,  3,  1],\n",
       "        [ 1,  3,  4,  1,  5,  4,  1],\n",
       "        [ 1,  3,  4,  1,  4,  1,  0],\n",
       "        [ 1,  5,  4,  1,  5,  4,  1]])"
      ]
     },
     "execution_count": 9,
     "metadata": {},
     "output_type": "execute_result"
    }
   ],
   "source": [
    "trace2"
   ]
  },
  {
   "cell_type": "code",
   "execution_count": null,
   "id": "9e96bb1a-8153-4d5c-94cb-70aaaee6819d",
   "metadata": {},
   "outputs": [],
   "source": []
  }
 ],
 "metadata": {
  "kernelspec": {
   "display_name": "dgl:Python",
   "language": "python",
   "name": "conda-env-dgl-py"
  },
  "language_info": {
   "codemirror_mode": {
    "name": "ipython",
    "version": 3
   },
   "file_extension": ".py",
   "mimetype": "text/x-python",
   "name": "python",
   "nbconvert_exporter": "python",
   "pygments_lexer": "ipython3",
   "version": "3.9.13"
  }
 },
 "nbformat": 4,
 "nbformat_minor": 5
}
