{
 "cells": [
  {
   "cell_type": "markdown",
   "id": "e5c1943b-5002-4797-81cd-ff093ef96295",
   "metadata": {},
   "source": [
    "# Deep Graph Library(DGL) 基础"
   ]
  },
  {
   "cell_type": "markdown",
   "id": "b7907b8b-70e2-4454-ad08-251e5016bad2",
   "metadata": {},
   "source": [
    "Deep Graph Library (DGL)是一个简单通用的图深度学习的库，可以使用PyTorch，TensorFlow和MXNet作为后端框架。利用DGL，可以轻松编写和训练图神经网络，并用于与结构化数据相关的应用。DGL支持许多与图数据相关的功能，比如异质图、点云、小批量加载器和各种常用基准数据集等等。"
   ]
  },
  {
   "cell_type": "markdown",
   "id": "eb56a79f-4c21-4214-9719-6f1614cd8200",
   "metadata": {},
   "source": [
    "## DGL的安装"
   ]
  },
  {
   "cell_type": "markdown",
   "id": "b7c9f9d5-2955-49fe-9e5d-19616b54e702",
   "metadata": {},
   "source": [
    "现在DGL支持多种安装方法，见官网https://www.dgl.ai/pages/start.html 。我们推荐使用pip来安装DGL。\n",
    "\n",
    "注意：正确选择对应的计算机系统、CUDA或者CPU版本。\n",
    "\n",
    "`pip install dgl -f https://data.dgl.ai/wheels/repo.html`\n",
    "\n",
    "建议安装DGL最新版，当前是0.9版本，不过上面的命令会安装最新的版本；PyTorch建议1.10.0或更高版本。\n",
    "\n",
    "`pip install torch==1.10.0`"
   ]
  },
  {
   "cell_type": "code",
   "execution_count": null,
   "id": "2577ccd2-9edd-447a-89af-c41a25dcafb0",
   "metadata": {},
   "outputs": [],
   "source": []
  },
  {
   "cell_type": "markdown",
   "id": "fe3b1833-8212-4ced-827f-1e3a43af60cb",
   "metadata": {},
   "source": [
    "## DGL图的基本概念和操作"
   ]
  },
  {
   "cell_type": "markdown",
   "id": "a7176395-5de3-4a3b-8423-d6c00aca6bdb",
   "metadata": {},
   "source": [
    "实际业务中要处理的数据绝大部分是异构图。这里我们用下面这张图的异构图来作为例子演示如何构建异构的DGL图。\n",
    "\n",
    "<img src='heterogeneous_graph.png' width=40%>"
   ]
  },
  {
   "cell_type": "markdown",
   "id": "cab8fb1f-f320-4862-9813-345655748378",
   "metadata": {},
   "source": [
    "该图中包含了公司和产品这两种点，以及制造、下游、供应，一共3种关系。\n",
    "\n",
    "下面，我们将演示如何从数据中构建异质图。首先，我们从csv文件中读取数据，包括公司（node）信息和产品（node）信息，以及3种边（制造、下游、供应）的信息。"
   ]
  },
  {
   "cell_type": "code",
   "execution_count": 2,
   "id": "70951871-33bf-47a4-8d5a-3057ef86a239",
   "metadata": {},
   "outputs": [
    {
     "name": "stderr",
     "output_type": "stream",
     "text": [
      "/home/studio-lab-user/.conda/envs/dgl/lib/python3.9/site-packages/tqdm/auto.py:22: TqdmWarning: IProgress not found. Please update jupyter and ipywidgets. See https://ipywidgets.readthedocs.io/en/stable/user_install.html\n",
      "  from .autonotebook import tqdm as notebook_tqdm\n"
     ]
    },
    {
     "name": "stdout",
     "output_type": "stream",
     "text": [
      "Index(['CID', 'size'], dtype='object')\n",
      "Index(['PID', 'price'], dtype='object')\n"
     ]
    }
   ],
   "source": [
    "import pandas as pd\n",
    "import torch as th\n",
    "import dgl\n",
    "import numpy as np\n",
    "\n",
    "df_company     = pd.read_csv('raw_data/companies.csv')\n",
    "df_product     = pd.read_csv('raw_data/products.csv')\n",
    "df_produce     = pd.read_csv('raw_data/comp_produce_prod.csv')\n",
    "df_downstream  = pd.read_csv('raw_data/prod_downstream_prod.csv')\n",
    "df_supply      = pd.read_csv('raw_data/comp_supply_comp.csv')\n",
    "print(df_company.keys())\n",
    "print(df_product.keys())"
   ]
  },
  {
   "cell_type": "code",
   "execution_count": 4,
   "id": "d58e5452-567f-4320-a427-d407e2b66113",
   "metadata": {},
   "outputs": [
    {
     "data": {
      "text/html": [
       "<div>\n",
       "<style scoped>\n",
       "    .dataframe tbody tr th:only-of-type {\n",
       "        vertical-align: middle;\n",
       "    }\n",
       "\n",
       "    .dataframe tbody tr th {\n",
       "        vertical-align: top;\n",
       "    }\n",
       "\n",
       "    .dataframe thead th {\n",
       "        text-align: right;\n",
       "    }\n",
       "</style>\n",
       "<table border=\"1\" class=\"dataframe\">\n",
       "  <thead>\n",
       "    <tr style=\"text-align: right;\">\n",
       "      <th></th>\n",
       "      <th>CID</th>\n",
       "      <th>size</th>\n",
       "    </tr>\n",
       "  </thead>\n",
       "  <tbody>\n",
       "    <tr>\n",
       "      <th>0</th>\n",
       "      <td>comp_1</td>\n",
       "      <td>S</td>\n",
       "    </tr>\n",
       "    <tr>\n",
       "      <th>1</th>\n",
       "      <td>comp_2</td>\n",
       "      <td>M</td>\n",
       "    </tr>\n",
       "    <tr>\n",
       "      <th>2</th>\n",
       "      <td>comp_3</td>\n",
       "      <td>M</td>\n",
       "    </tr>\n",
       "  </tbody>\n",
       "</table>\n",
       "</div>"
      ],
      "text/plain": [
       "      CID size\n",
       "0  comp_1    S\n",
       "1  comp_2    M\n",
       "2  comp_3    M"
      ]
     },
     "execution_count": 4,
     "metadata": {},
     "output_type": "execute_result"
    }
   ],
   "source": [
    "df_company.head()"
   ]
  },
  {
   "cell_type": "markdown",
   "id": "738bc466-51e1-4532-add2-f67208c8d3e6",
   "metadata": {},
   "source": [
    "### 将节点编号从0重排"
   ]
  },
  {
   "cell_type": "markdown",
   "id": "8b6c8ba0-e32f-45eb-8bca-aff08d2ca1d7",
   "metadata": {},
   "source": [
    "在DGL里，我们一般需要对对Node ID从0开始重新排序以满足DGL数据存储的特点。注意这里，公司和产品都从0开始设置ID。"
   ]
  },
  {
   "cell_type": "code",
   "execution_count": 6,
   "id": "4e9ec684-15a8-489b-a742-c64a643a5532",
   "metadata": {},
   "outputs": [],
   "source": [
    "company_mapping = {idx: i for i, idx in enumerate(df_company['CID'].unique())}\n",
    "num_companies = len(company_mapping)\n",
    "\n",
    "product_mapping = {idx: i for i, idx in enumerate(df_product['PID'].unique())}\n",
    "num_products = len(product_mapping)"
   ]
  },
  {
   "cell_type": "code",
   "execution_count": null,
   "id": "366e87d6-1cc1-4dd6-8894-dae63b656b81",
   "metadata": {},
   "outputs": [],
   "source": []
  }
 ],
 "metadata": {
  "kernelspec": {
   "display_name": "dgl:Python",
   "language": "python",
   "name": "conda-env-dgl-py"
  },
  "language_info": {
   "codemirror_mode": {
    "name": "ipython",
    "version": 3
   },
   "file_extension": ".py",
   "mimetype": "text/x-python",
   "name": "python",
   "nbconvert_exporter": "python",
   "pygments_lexer": "ipython3",
   "version": "3.9.13"
  }
 },
 "nbformat": 4,
 "nbformat_minor": 5
}
