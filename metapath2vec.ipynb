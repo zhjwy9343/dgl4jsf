{
 "cells": [
  {
   "cell_type": "markdown",
   "id": "819f4e56-fa86-4f06-8763-8dc00c319d50",
   "metadata": {},
   "source": [
    "# Metapath2Vec 示例\n",
    "\n",
    "针对异构图，我们使用Metapath2Vec的方法来进行无监督的学习。"
   ]
  },
  {
   "cell_type": "code",
   "execution_count": null,
   "id": "88b685f9-9afd-456e-a360-5afdfd8f407f",
   "metadata": {},
   "outputs": [],
   "source": []
  },
  {
   "cell_type": "code",
   "execution_count": null,
   "id": "eabc661e-95e2-410b-ad17-e740e7f38d89",
   "metadata": {},
   "outputs": [],
   "source": [
    "import torch\n",
    "import torch.nn as nn\n",
    "import torch.nn.functional as F\n",
    "from torch.nn import init"
   ]
  },
  {
   "cell_type": "code",
   "execution_count": null,
   "id": "c56d8a99-b504-4986-9ffe-2238e8a15753",
   "metadata": {},
   "outputs": [],
   "source": []
  },
  {
   "cell_type": "markdown",
   "id": "3e3cf019-f053-4655-97a0-f4d656ba24c6",
   "metadata": {},
   "source": [
    "### 数据集"
   ]
  },
  {
   "cell_type": "code",
   "execution_count": null,
   "id": "d62aad69-7235-40f2-a1ca-6be2889ee04c",
   "metadata": {},
   "outputs": [],
   "source": [
    "class Metapath2vecDataset(Dataset):\n",
    "    def __init__(self, data, window_size):\n",
    "        # read in data, window_size and input filename\n",
    "        self.data = data\n",
    "        self.window_size = window_size\n",
    "        self.input_file = open(data.inputFileName, encoding=\"ISO-8859-1\")\n",
    "\n",
    "    def __len__(self):\n",
    "        # return the number of walks\n",
    "        return self.data.sentences_count\n",
    "\n",
    "    def __getitem__(self, idx):\n",
    "        # return the list of pairs (center, context, 5 negatives)\n",
    "        while True:\n",
    "            line = self.input_file.readline()\n",
    "            if not line:\n",
    "                self.input_file.seek(0, 0)\n",
    "                line = self.input_file.readline()\n",
    "\n",
    "            if len(line) > 1:\n",
    "                words = line.split()\n",
    "\n",
    "                if len(words) > 1:\n",
    "                    word_ids = [self.data.word2id[w] for w in words if\n",
    "                                w in self.data.word2id and np.random.rand() < self.data.discards[self.data.word2id[w]]]\n",
    "\n",
    "                    pair_catch = []\n",
    "                    for i, u in enumerate(word_ids):\n",
    "                        for j, v in enumerate(\n",
    "                                word_ids[max(i - self.window_size, 0):i + self.window_size]):\n",
    "                            assert u < self.data.word_count\n",
    "                            assert v < self.data.word_count\n",
    "                            if i == j:\n",
    "                                continue\n",
    "                            pair_catch.append((u, v, self.data.getNegatives(v,5)))\n",
    "                    return pair_catch\n",
    "\n",
    "\n",
    "    @staticmethod\n",
    "    def collate(batches):\n",
    "        all_u = [u for batch in batches for u, _, _ in batch if len(batch) > 0]\n",
    "        all_v = [v for batch in batches for _, v, _ in batch if len(batch) > 0]\n",
    "        all_neg_v = [neg_v for batch in batches for _, _, neg_v in batch if len(batch) > 0]\n",
    "\n",
    "        return torch.LongTensor(all_u), torch.LongTensor(all_v), torch.LongTensor(all_neg_v)"
   ]
  },
  {
   "cell_type": "markdown",
   "id": "120d4dca-1773-4ece-882c-5d1eb2ad59b6",
   "metadata": {},
   "source": [
    "### 模型：Skip_gram"
   ]
  },
  {
   "cell_type": "code",
   "execution_count": null,
   "id": "05b6339e-ac35-4c78-be65-2250e8035901",
   "metadata": {},
   "outputs": [],
   "source": [
    "class SkipGramModel(nn.Module):\n",
    "    \"\"\"\n",
    "        u_embedding: Embedding for center word.\n",
    "        v_embedding: Embedding for neighbor words.\n",
    "    \"\"\"\n",
    "    def __init__(self, emb_size, emb_dimension):\n",
    "        super(SkipGramModel, self).__init__()\n",
    "        self.emb_size = emb_size\n",
    "        self.emb_dimension = emb_dimension\n",
    "        self.u_embeddings = nn.Embedding(emb_size, emb_dimension, sparse=True)\n",
    "        self.v_embeddings = nn.Embedding(emb_size, emb_dimension, sparse=True)\n",
    "\n",
    "        initrange = 1.0 / self.emb_dimension\n",
    "        init.uniform_(self.u_embeddings.weight.data, -initrange, initrange)\n",
    "        init.constant_(self.v_embeddings.weight.data, 0)\n",
    "\n",
    "    def forward(self, pos_u, pos_v, neg_v):\n",
    "        emb_u = self.u_embeddings(pos_u)\n",
    "        emb_v = self.v_embeddings(pos_v)\n",
    "        emb_neg_v = self.v_embeddings(neg_v)\n",
    "\n",
    "        score = torch.sum(torch.mul(emb_u, emb_v), dim=1)\n",
    "        score = torch.clamp(score, max=10, min=-10)\n",
    "        score = -F.logsigmoid(score)\n",
    "\n",
    "        neg_score = torch.bmm(emb_neg_v, emb_u.unsqueeze(2)).squeeze()\n",
    "        neg_score = torch.clamp(neg_score, max=10, min=-10)\n",
    "        neg_score = -torch.sum(F.logsigmoid(-neg_score), dim=1)\n",
    "\n",
    "        return torch.mean(score + neg_score)\n",
    "\n",
    "    def save_embedding(self, id2word, file_name):\n",
    "        embedding = self.u_embeddings.weight.cpu().data.numpy()\n",
    "        with open(file_name, 'w') as f:\n",
    "            f.write('%d %d\\n' % (len(id2word), self.emb_dimension))\n",
    "            for wid, w in id2word.items():\n",
    "                e = ' '.join(map(lambda x: str(x), embedding[wid]))\n",
    "                f.write('%s %s\\n' % (w, e))"
   ]
  },
  {
   "cell_type": "markdown",
   "id": "44f8be50-7c60-4378-a3ed-62cddcdc8592",
   "metadata": {},
   "source": [
    "### 主训练器"
   ]
  },
  {
   "cell_type": "code",
   "execution_count": null,
   "id": "cace78cb-cef1-4bb5-9411-1af47c9d2c05",
   "metadata": {},
   "outputs": [],
   "source": [
    "class Metapath2VecTrainer:\n",
    "    def __init__(self, args):\n",
    "        if args.aminer:\n",
    "            dataset = AminerDataset(args.path)\n",
    "        else:\n",
    "            dataset = CustomDataset(args.path)\n",
    "        self.data = DataReader(dataset, args.min_count, args.care_type)\n",
    "        dataset = Metapath2vecDataset(self.data, args.window_size)\n",
    "        self.dataloader = DataLoader(dataset, batch_size=args.batch_size,\n",
    "                                     shuffle=True, num_workers=args.num_workers, collate_fn=dataset.collate)\n",
    "\n",
    "        self.output_file_name = args.output_file\n",
    "        self.emb_size = len(self.data.word2id)\n",
    "        self.emb_dimension = args.dim\n",
    "        self.batch_size = args.batch_size\n",
    "        self.iterations = args.iterations\n",
    "        self.initial_lr = args.initial_lr\n",
    "        self.skip_gram_model = SkipGramModel(self.emb_size, self.emb_dimension)\n",
    "\n",
    "        self.use_cuda = torch.cuda.is_available()\n",
    "        self.device = torch.device(\"cuda\" if self.use_cuda else \"cpu\")\n",
    "        if self.use_cuda:\n",
    "            self.skip_gram_model.cuda()\n",
    "\n",
    "    def train(self):\n",
    "\n",
    "        optimizer = optim.SparseAdam(list(self.skip_gram_model.parameters()), lr=self.initial_lr)\n",
    "        scheduler = torch.optim.lr_scheduler.CosineAnnealingLR(optimizer, len(self.dataloader))\n",
    "\n",
    "        for iteration in range(self.iterations):\n",
    "            print(\"\\n\\n\\nIteration: \" + str(iteration + 1))\n",
    "            running_loss = 0.0\n",
    "            for i, sample_batched in enumerate(tqdm(self.dataloader)):\n",
    "\n",
    "                if len(sample_batched[0]) > 1:\n",
    "                    pos_u = sample_batched[0].to(self.device)\n",
    "                    pos_v = sample_batched[1].to(self.device)\n",
    "                    neg_v = sample_batched[2].to(self.device)\n",
    "\n",
    "                    scheduler.step()\n",
    "                    optimizer.zero_grad()\n",
    "                    loss = self.skip_gram_model.forward(pos_u, pos_v, neg_v)\n",
    "                    loss.backward()\n",
    "                    optimizer.step()\n",
    "\n",
    "                    running_loss = running_loss * 0.9 + loss.item() * 0.1\n",
    "                    if i > 0 and i % 500 == 0:\n",
    "                        print(\" Loss: \" + str(running_loss))\n",
    "\n",
    "        self.skip_gram_model.save_embedding(self.data.id2word, self.output_file_name)\n"
   ]
  },
  {
   "cell_type": "markdown",
   "id": "a682c173-a580-48fc-ab8b-a9afe6e2f9f4",
   "metadata": {},
   "source": [
    "### 训练"
   ]
  },
  {
   "cell_type": "code",
   "execution_count": null,
   "id": "2b1e8cb6-35b7-4c72-8dc1-00fe231da201",
   "metadata": {},
   "outputs": [],
   "source": []
  }
 ],
 "metadata": {
  "kernelspec": {
   "display_name": "dgl:Python",
   "language": "python",
   "name": "conda-env-dgl-py"
  },
  "language_info": {
   "codemirror_mode": {
    "name": "ipython",
    "version": 3
   },
   "file_extension": ".py",
   "mimetype": "text/x-python",
   "name": "python",
   "nbconvert_exporter": "python",
   "pygments_lexer": "ipython3",
   "version": "3.9.13"
  }
 },
 "nbformat": 4,
 "nbformat_minor": 5
}
