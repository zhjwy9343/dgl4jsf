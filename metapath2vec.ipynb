{
 "cells": [
  {
   "cell_type": "markdown",
   "id": "819f4e56-fa86-4f06-8763-8dc00c319d50",
   "metadata": {},
   "source": [
    "# Metapath2Vec 示例\n",
    "\n",
    "针对异构图，我们使用Metapath2Vec的方法来进行无监督的学习。[Metapath2Vec](https://ericdongyx.github.io/papers/KDD17-dong-chawla-swami-metapath2vec.pdf)是比较经典的异构图上表征学习的方法，它使用特定的metapath进行随机游走，然后对于metapath使用skip-gram模型进行表征学习。\n",
    "\n",
    "之前我们通过DGL的randomwalk接口了解到了如何在DGL异构图上进行随机游走，获取了每个公司节点的随机游走的迹(trace)。Metapath2Vec使用了负采样的方法来计算没有边的领居点。这里我们使用自定义的负采样的方法，即从源节点没有连接的目标节点里选择节点。"
   ]
  },
  {
   "cell_type": "code",
   "execution_count": 3,
   "id": "eabc661e-95e2-410b-ad17-e740e7f38d89",
   "metadata": {},
   "outputs": [],
   "source": [
    "import torch\n",
    "import dgl\n",
    "import torch.nn as nn\n",
    "import torch.nn.functional as F\n",
    "from torch.nn import init\n",
    "from dgl.sampling import random_walk"
   ]
  },
  {
   "cell_type": "markdown",
   "id": "0e06f883-5ab6-4b28-b96f-ede075d42bf6",
   "metadata": {},
   "source": [
    "### 导入保存的样例图数据"
   ]
  },
  {
   "cell_type": "code",
   "execution_count": 4,
   "id": "3a9e4917-1bc9-40df-ad16-a2ff41787927",
   "metadata": {},
   "outputs": [],
   "source": [
    "graphs, _ = dgl.load_graphs('./hetero_dgl.bin')\n",
    "graph = graphs[0]"
   ]
  },
  {
   "cell_type": "markdown",
   "id": "3e3cf019-f053-4655-97a0-f4d656ba24c6",
   "metadata": {},
   "source": [
    "### 样例数据随机游走的数据处理\n",
    "\n",
    "对所有的公司节点按照“公司-〈生产〉-产品-〈下游〉-产品-〈被生产〉-公司”这种metapath随机游走得到的trace进行处理，得到 (target,neighbor,negative_neighbor)元组。"
   ]
  },
  {
   "cell_type": "code",
   "execution_count": null,
   "id": "d62aad69-7235-40f2-a1ca-6be2889ee04c",
   "metadata": {},
   "outputs": [],
   "source": []
  },
  {
   "cell_type": "markdown",
   "id": "120d4dca-1773-4ece-882c-5d1eb2ad59b6",
   "metadata": {},
   "source": [
    "### 模型：Skip_gram"
   ]
  },
  {
   "cell_type": "code",
   "execution_count": null,
   "id": "05b6339e-ac35-4c78-be65-2250e8035901",
   "metadata": {},
   "outputs": [],
   "source": [
    "class SkipGramModel(nn.Module):\n",
    "    \"\"\"\n",
    "        u_embedding: Embedding for center word.\n",
    "        v_embedding: Embedding for neighbor words.\n",
    "    \"\"\"\n",
    "    def __init__(self, emb_size, emb_dimension):\n",
    "        super(SkipGramModel, self).__init__()\n",
    "        self.emb_size = emb_size\n",
    "        self.emb_dimension = emb_dimension\n",
    "        self.u_embeddings = nn.Embedding(emb_size, emb_dimension, sparse=True)\n",
    "        self.v_embeddings = nn.Embedding(emb_size, emb_dimension, sparse=True)\n",
    "\n",
    "        initrange = 1.0 / self.emb_dimension\n",
    "        init.uniform_(self.u_embeddings.weight.data, -initrange, initrange)\n",
    "        init.constant_(self.v_embeddings.weight.data, 0)\n",
    "\n",
    "    def forward(self, pos_u, pos_v, neg_v):\n",
    "        emb_u = self.u_embeddings(pos_u)\n",
    "        emb_v = self.v_embeddings(pos_v)\n",
    "        emb_neg_v = self.v_embeddings(neg_v)\n",
    "\n",
    "        score = torch.sum(torch.mul(emb_u, emb_v), dim=1)\n",
    "        score = torch.clamp(score, max=10, min=-10)\n",
    "        score = -F.logsigmoid(score)\n",
    "\n",
    "        neg_score = torch.bmm(emb_neg_v, emb_u.unsqueeze(2)).squeeze()\n",
    "        neg_score = torch.clamp(neg_score, max=10, min=-10)\n",
    "        neg_score = -torch.sum(F.logsigmoid(-neg_score), dim=1)\n",
    "\n",
    "        return torch.mean(score + neg_score)\n",
    "\n",
    "    def save_embedding(self, id2word, file_name):\n",
    "        embedding = self.u_embeddings.weight.cpu().data.numpy()\n",
    "        with open(file_name, 'w') as f:\n",
    "            f.write('%d %d\\n' % (len(id2word), self.emb_dimension))\n",
    "            for wid, w in id2word.items():\n",
    "                e = ' '.join(map(lambda x: str(x), embedding[wid]))\n",
    "                f.write('%s %s\\n' % (w, e))"
   ]
  },
  {
   "cell_type": "markdown",
   "id": "44f8be50-7c60-4378-a3ed-62cddcdc8592",
   "metadata": {},
   "source": [
    "### 主训练函数"
   ]
  },
  {
   "cell_type": "code",
   "execution_count": null,
   "id": "cace78cb-cef1-4bb5-9411-1af47c9d2c05",
   "metadata": {},
   "outputs": [],
   "source": [
    "class Metapath2VecTrainer:\n",
    "    def __init__(self, args):\n",
    "        if args.aminer:\n",
    "            dataset = AminerDataset(args.path)\n",
    "        else:\n",
    "            dataset = CustomDataset(args.path)\n",
    "        self.data = DataReader(dataset, args.min_count, args.care_type)\n",
    "        dataset = Metapath2vecDataset(self.data, args.window_size)\n",
    "        self.dataloader = DataLoader(dataset, batch_size=args.batch_size,\n",
    "                                     shuffle=True, num_workers=args.num_workers, collate_fn=dataset.collate)\n",
    "\n",
    "        self.output_file_name = args.output_file\n",
    "        self.emb_size = len(self.data.word2id)\n",
    "        self.emb_dimension = args.dim\n",
    "        self.batch_size = args.batch_size\n",
    "        self.iterations = args.iterations\n",
    "        self.initial_lr = args.initial_lr\n",
    "        self.skip_gram_model = SkipGramModel(self.emb_size, self.emb_dimension)\n",
    "\n",
    "        self.use_cuda = torch.cuda.is_available()\n",
    "        self.device = torch.device(\"cuda\" if self.use_cuda else \"cpu\")\n",
    "        if self.use_cuda:\n",
    "            self.skip_gram_model.cuda()\n",
    "\n",
    "    def train(self):\n",
    "\n",
    "        optimizer = optim.SparseAdam(list(self.skip_gram_model.parameters()), lr=self.initial_lr)\n",
    "        scheduler = torch.optim.lr_scheduler.CosineAnnealingLR(optimizer, len(self.dataloader))\n",
    "\n",
    "        for iteration in range(self.iterations):\n",
    "            print(\"\\n\\n\\nIteration: \" + str(iteration + 1))\n",
    "            running_loss = 0.0\n",
    "            for i, sample_batched in enumerate(tqdm(self.dataloader)):\n",
    "\n",
    "                if len(sample_batched[0]) > 1:\n",
    "                    pos_u = sample_batched[0].to(self.device)\n",
    "                    pos_v = sample_batched[1].to(self.device)\n",
    "                    neg_v = sample_batched[2].to(self.device)\n",
    "\n",
    "                    scheduler.step()\n",
    "                    optimizer.zero_grad()\n",
    "                    loss = self.skip_gram_model.forward(pos_u, pos_v, neg_v)\n",
    "                    loss.backward()\n",
    "                    optimizer.step()\n",
    "\n",
    "                    running_loss = running_loss * 0.9 + loss.item() * 0.1\n",
    "                    if i > 0 and i % 500 == 0:\n",
    "                        print(\" Loss: \" + str(running_loss))\n",
    "\n",
    "        self.skip_gram_model.save_embedding(self.data.id2word, self.output_file_name)"
   ]
  },
  {
   "cell_type": "markdown",
   "id": "a682c173-a580-48fc-ab8b-a9afe6e2f9f4",
   "metadata": {},
   "source": [
    "### 训练"
   ]
  },
  {
   "cell_type": "code",
   "execution_count": null,
   "id": "2b1e8cb6-35b7-4c72-8dc1-00fe231da201",
   "metadata": {},
   "outputs": [],
   "source": []
  }
 ],
 "metadata": {
  "kernelspec": {
   "display_name": "dgl:Python",
   "language": "python",
   "name": "conda-env-dgl-py"
  },
  "language_info": {
   "codemirror_mode": {
    "name": "ipython",
    "version": 3
   },
   "file_extension": ".py",
   "mimetype": "text/x-python",
   "name": "python",
   "nbconvert_exporter": "python",
   "pygments_lexer": "ipython3",
   "version": "3.9.13"
  }
 },
 "nbformat": 4,
 "nbformat_minor": 5
}
