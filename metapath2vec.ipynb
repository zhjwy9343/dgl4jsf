{
 "cells": [
  {
   "cell_type": "markdown",
   "id": "819f4e56-fa86-4f06-8763-8dc00c319d50",
   "metadata": {},
   "source": [
    "# Metapath2Vec 示例\n",
    "\n",
    "针对异构图，我们使用Metapath2Vec的方法来进行无监督的学习。"
   ]
  },
  {
   "cell_type": "code",
   "execution_count": null,
   "id": "88b685f9-9afd-456e-a360-5afdfd8f407f",
   "metadata": {},
   "outputs": [],
   "source": []
  }
 ],
 "metadata": {
  "kernelspec": {
   "display_name": "dgl:Python",
   "language": "python",
   "name": "conda-env-dgl-py"
  },
  "language_info": {
   "codemirror_mode": {
    "name": "ipython",
    "version": 3
   },
   "file_extension": ".py",
   "mimetype": "text/x-python",
   "name": "python",
   "nbconvert_exporter": "python",
   "pygments_lexer": "ipython3",
   "version": "3.9.13"
  }
 },
 "nbformat": 4,
 "nbformat_minor": 5
}
