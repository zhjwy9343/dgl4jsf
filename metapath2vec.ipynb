{
 "cells": [
  {
   "cell_type": "markdown",
   "id": "819f4e56-fa86-4f06-8763-8dc00c319d50",
   "metadata": {},
   "source": [
    "# Metapath2Vec 示例\n",
    "\n",
    "针对异构图，我们使用Metapath2Vec的方法来进行无监督的学习。[Metapath2Vec](https://ericdongyx.github.io/papers/KDD17-dong-chawla-swami-metapath2vec.pdf)是比较经典的异构图上表征学习的方法，它使用特定的metapath进行随机游走，然后对于metapath使用skip-gram模型进行表征学习。\n",
    "\n",
    "之前我们通过DGL的randomwalk接口了解到了如何在DGL异构图上进行随机游走，获取了每个公司节点的随机游走的迹(trace)。Metapath2Vec使用了负采样的方法来计算没有边的领居点。这里我们使用自定义的负采样的方法，即从源节点没有连接的目标节点里选择节点。"
   ]
  },
  {
   "cell_type": "code",
   "execution_count": 29,
   "id": "eabc661e-95e2-410b-ad17-e740e7f38d89",
   "metadata": {},
   "outputs": [],
   "source": [
    "import torch\n",
    "import dgl\n",
    "import pandas as pd\n",
    "import numpy as np\n",
    "import torch.nn as nn\n",
    "import torch.nn.functional as F\n",
    "from torch.nn import init\n",
    "from torch import optim\n",
    "from dgl.sampling import random_walk"
   ]
  },
  {
   "cell_type": "markdown",
   "id": "0e06f883-5ab6-4b28-b96f-ede075d42bf6",
   "metadata": {},
   "source": [
    "### 导入保存的样例图数据"
   ]
  },
  {
   "cell_type": "code",
   "execution_count": 30,
   "id": "3a9e4917-1bc9-40df-ad16-a2ff41787927",
   "metadata": {},
   "outputs": [
    {
     "data": {
      "text/plain": [
       "Graph(num_nodes={'company': 3, 'product': 8},\n",
       "      num_edges={('company', 'produce', 'product'): 8, ('company', 'suppliedby', 'company'): 3, ('company', 'supply', 'company'): 3, ('product', 'downstream', 'product'): 7, ('product', 'producedby', 'company'): 8, ('product', 'upstream', 'product'): 7},\n",
       "      metagraph=[('company', 'product', 'produce'), ('company', 'company', 'suppliedby'), ('company', 'company', 'supply'), ('product', 'product', 'downstream'), ('product', 'product', 'upstream'), ('product', 'company', 'producedby')])"
      ]
     },
     "execution_count": 30,
     "metadata": {},
     "output_type": "execute_result"
    }
   ],
   "source": [
    "graphs, _ = dgl.load_graphs('./hetero_dgl.bin')\n",
    "graph = graphs[0]\n",
    "graph"
   ]
  },
  {
   "cell_type": "markdown",
   "id": "24590408-8cbf-4642-a5ce-07e2e8c2931d",
   "metadata": {},
   "source": [
    "### 导入节点的原始名称并形成ID"
   ]
  },
  {
   "cell_type": "code",
   "execution_count": 31,
   "id": "8277ee31-bf77-4c30-bff2-8ff2f61fad03",
   "metadata": {},
   "outputs": [],
   "source": [
    "df_company = pd.read_csv('raw_data/companies.csv')\n",
    "df_product = pd.read_csv('raw_data/products.csv')\n",
    "\n",
    "comp2id = {comp: i for i, comp in enumerate(df_company['CID'].unique())}\n",
    "id2comp = {i: comp for i, comp in enumerate(df_company['CID'].unique())}\n",
    "\n",
    "prod2id = {prod: i for i, prod in enumerate(df_product['PID'].unique())}\n",
    "id2prod = {i: prod for i, prod in enumerate(df_product['PID'].unique())}"
   ]
  },
  {
   "cell_type": "markdown",
   "id": "3e3cf019-f053-4655-97a0-f4d656ba24c6",
   "metadata": {},
   "source": [
    "### 样例数据随机游走的数据处理\n",
    "\n",
    "对所有的公司节点按照“公司-〈生产〉-产品-〈下游〉-产品-〈被生产〉-公司”这种metapath随机游走得到的trace,这里我们对所有的公司节点都进行随机游走。为了给skip_gram模型使用，我们需要对traces进行处理，得到 (target,neighbor,negative_neighbor)三元组。这里使用的负采样方法是非常naive的，只是从整个corpus里面随机选择其他的节点。这种方法会有一定概率的collision，即随机选择的其他点可能和target点有连接。但是对于比较大的图，这个影响可以忽略不计。"
   ]
  },
  {
   "cell_type": "code",
   "execution_count": 32,
   "id": "cbe664f8-5a09-4082-a6b0-7dca6489695a",
   "metadata": {},
   "outputs": [],
   "source": [
    "# define some hyperparameters\n",
    "num_walks = 4\n",
    "compId = [v for k,v in comp2id.items()]\n",
    "window_size = 2\n",
    "num_negative_samples = 2"
   ]
  },
  {
   "cell_type": "code",
   "execution_count": 33,
   "id": "1dc1ad2b-65d1-41cf-9268-c04220a57302",
   "metadata": {},
   "outputs": [
    {
     "name": "stdout",
     "output_type": "stream",
     "text": [
      "tensor([[ 0,  1, -1, -1],\n",
      "        [ 1,  5,  4,  1],\n",
      "        [ 2,  6,  7,  2],\n",
      "        [ 0,  2,  3,  1],\n",
      "        [ 1,  3,  4,  1],\n",
      "        [ 2,  6,  7,  2],\n",
      "        [ 0,  0,  1,  0],\n",
      "        [ 1,  4,  1,  0],\n",
      "        [ 2,  6,  7,  2],\n",
      "        [ 0,  2,  3,  1],\n",
      "        [ 1,  3,  4,  1],\n",
      "        [ 2,  6,  7,  2]])\n"
     ]
    },
    {
     "data": {
      "text/plain": [
       "[['comp_1', 'prod1_2'],\n",
       " ['comp_2', 'prod2_3', 'prod2_2', 'comp_2'],\n",
       " ['comp_3', 'prod3_1', 'prod3_2', 'comp_3'],\n",
       " ['comp_1', 'prod1_3', 'prod2_1', 'comp_2'],\n",
       " ['comp_2', 'prod2_1', 'prod2_2', 'comp_2'],\n",
       " ['comp_3', 'prod3_1', 'prod3_2', 'comp_3'],\n",
       " ['comp_1', 'prod1_1', 'prod1_2', 'comp_1'],\n",
       " ['comp_2', 'prod2_2', 'prod1_2', 'comp_1'],\n",
       " ['comp_3', 'prod3_1', 'prod3_2', 'comp_3'],\n",
       " ['comp_1', 'prod1_3', 'prod2_1', 'comp_2'],\n",
       " ['comp_2', 'prod2_1', 'prod2_2', 'comp_2'],\n",
       " ['comp_3', 'prod3_1', 'prod3_2', 'comp_3']]"
      ]
     },
     "execution_count": 33,
     "metadata": {},
     "output_type": "execute_result"
    }
   ],
   "source": [
    "traces, _ = random_walk(graph, compId * num_walks, metapath=['produce', 'downstream', 'producedby'])\n",
    "print(traces)\n",
    "\n",
    "# trace has type [company, product, product, company]. We map the ids back to their original name\n",
    "name_traces = []\n",
    "for trace in traces:\n",
    "    name_trace = [(id2comp if i % 3 == 0 else id2prod)[idx] for i, idx in enumerate(trace.numpy()) \n",
    "                  if idx != -1]\n",
    "    name_traces.append(name_trace)\n",
    "    \n",
    "name_traces"
   ]
  },
  {
   "cell_type": "code",
   "execution_count": 74,
   "id": "9cc4e71d-2e82-4ebe-9a56-b53d7444f1a8",
   "metadata": {},
   "outputs": [],
   "source": [
    "def naive_neg_sampling(total_num, u, v, num_neg_samples):\n",
    "    if u < v:\n",
    "        sample_space = np.concatenate([np.arange(0, u), np.arange(u + 1, v), np.arange(v, total_num)])\n",
    "        neg_samples = np.random.choice(sample_space, 2)\n",
    "    else:\n",
    "        sample_space = np.concatenate([np.arange(0, v), np.arange(v + 1, u), np.arange(v, total_num)])\n",
    "        neg_samples = np.random.choice(sample_space, 2)\n",
    "    return neg_samples.tolist()"
   ]
  },
  {
   "cell_type": "markdown",
   "id": "e9622f31-9327-46a4-b5f1-adb347afe8ef",
   "metadata": {},
   "source": [
    "把游走路径转化成3元组。"
   ]
  },
  {
   "cell_type": "code",
   "execution_count": 82,
   "id": "7340da48-9e03-478c-a083-c7e7b8690a7b",
   "metadata": {},
   "outputs": [
    {
     "name": "stdout",
     "output_type": "stream",
     "text": [
      "11\n"
     ]
    },
    {
     "data": {
      "text/plain": [
       "array([[ 1,  6,  2],\n",
       "       [ 3,  5,  4],\n",
       "       [ 4,  6,  7],\n",
       "       [ 8,  5,  5],\n",
       "       [ 2,  4,  8],\n",
       "       [ 8,  4,  0],\n",
       "       [ 4,  0,  4],\n",
       "       [ 8,  9,  4],\n",
       "       [ 4,  3,  5],\n",
       "       [ 2,  5,  2],\n",
       "       [10,  5,  8],\n",
       "       [ 0,  7,  4],\n",
       "       [ 5,  4,  7],\n",
       "       [ 0,  4,  3],\n",
       "       [10,  6,  3],\n",
       "       [ 0,  3,  9],\n",
       "       [10,  3,  3],\n",
       "       [ 5,  5,  2],\n",
       "       [ 9,  9,  2],\n",
       "       [ 3,  8,  7],\n",
       "       [ 6,  7,  5],\n",
       "       [ 3,  6,  5],\n",
       "       [ 9,  4,  9],\n",
       "       [ 8,  7,  4],\n",
       "       [ 9,  5,  5],\n",
       "       [ 6,  8,  2],\n",
       "       [ 6,  7,  6],\n",
       "       [ 8,  4,  0],\n",
       "       [ 2,  7,  3],\n",
       "       [ 8,  0,  4],\n",
       "       [ 6,  1,  1],\n",
       "       [ 8, 10, 10],\n",
       "       [ 6,  9,  7],\n",
       "       [ 2,  8,  2],\n",
       "       [10,  5, 10],\n",
       "       [ 0,  1, 10],\n",
       "       [ 5,  0,  8],\n",
       "       [ 0,  3,  2],\n",
       "       [10,  3,  2],\n",
       "       [ 0,  1, 10],\n",
       "       [10,  9,  6],\n",
       "       [ 5,  7,  4],\n",
       "       [ 7,  4,  1],\n",
       "       [ 3,  6, 10],\n",
       "       [ 1,  9,  2],\n",
       "       [ 3, 10,  5],\n",
       "       [ 7,  9,  2],\n",
       "       [ 3,  0,  9],\n",
       "       [ 7,  5,  6],\n",
       "       [ 1,  2, 10],\n",
       "       [ 2,  5,  6],\n",
       "       [ 8,  8,  1],\n",
       "       [ 1,  4,  3],\n",
       "       [ 8,  9,  5],\n",
       "       [ 2, 10,  2],\n",
       "       [ 3,  6,  5],\n",
       "       [ 2,  9, 10],\n",
       "       [ 1,  1,  3],\n",
       "       [10,  6,  1],\n",
       "       [ 0,  1, 10],\n",
       "       [ 5,  3, 10],\n",
       "       [ 0,  4,  3],\n",
       "       [10,  3, 10],\n",
       "       [ 0,  1,  9],\n",
       "       [10,  5,  1],\n",
       "       [ 5,  4,  8],\n",
       "       [ 9,  1, 10],\n",
       "       [ 3,  9,  5],\n",
       "       [ 6,  1,  4],\n",
       "       [ 3,  2,  9],\n",
       "       [ 9,  0, 10],\n",
       "       [ 8,  4,  0],\n",
       "       [ 9,  1,  6],\n",
       "       [ 6,  8,  6],\n",
       "       [ 6,  7,  0],\n",
       "       [ 8,  7,  1],\n",
       "       [ 2, 10,  0],\n",
       "       [ 8,  6,  7],\n",
       "       [ 6,  1,  0],\n",
       "       [ 8,  9,  5],\n",
       "       [ 6,  4,  0],\n",
       "       [ 2,  8,  0],\n",
       "       [10,  3,  7],\n",
       "       [ 0, 10,  9],\n",
       "       [ 5,  4,  3],\n",
       "       [ 0,  3,  5],\n",
       "       [10,  0,  4],\n",
       "       [ 0,  4,  2],\n",
       "       [10,  8,  7],\n",
       "       [ 5, 10,  4]])"
      ]
     },
     "execution_count": 82,
     "metadata": {},
     "output_type": "execute_result"
    }
   ],
   "source": [
    "# collect all tokens\n",
    "tokenset = set()\n",
    "num_tokens = 0\n",
    "for trace in name_traces:\n",
    "    for token in trace:\n",
    "        tokenset.add(token)\n",
    "num_tokens = len(tokenset)\n",
    "print(num_tokens)\n",
    "\n",
    "token2id = {token: i for i, token in enumerate(tokenset)}\n",
    "id2token = {i: token for i, token in enumerate(tokenset)}\n",
    "\n",
    "# process all traces\n",
    "triple_cache = []\n",
    "for trace in name_traces:\n",
    "    for i, u in enumerate(trace):\n",
    "        for j, v in enumerate(trace[max(i - window_size, 0): i + window_size]):\n",
    "            if (i == j) or (u == v):\n",
    "                continue\n",
    "            uid = token2id[u]\n",
    "            vid = token2id[v]\n",
    "            triple_cache.append([uid] + [vid] + naive_neg_sampling(num_tokens, uid, vid, num_negative_samples))\n",
    "\n",
    "triple_cache = np.array(triple_cache)\n",
    "triple_cache[:, 1:]"
   ]
  },
  {
   "cell_type": "markdown",
   "id": "120d4dca-1773-4ece-882c-5d1eb2ad59b6",
   "metadata": {},
   "source": [
    "### 模型：Skip_gram"
   ]
  },
  {
   "cell_type": "code",
   "execution_count": 77,
   "id": "05b6339e-ac35-4c78-be65-2250e8035901",
   "metadata": {},
   "outputs": [],
   "source": [
    "class SkipGramModel(nn.Module):\n",
    "    \"\"\"\n",
    "        u_embedding: Embedding for center word.\n",
    "        v_embedding: Embedding for neighbor words.\n",
    "    \"\"\"\n",
    "    def __init__(self, emb_size, emb_dimension):\n",
    "        super(SkipGramModel, self).__init__()\n",
    "        self.emb_size = emb_size\n",
    "        self.emb_dimension = emb_dimension\n",
    "        self.u_embeddings = nn.Embedding(emb_size, emb_dimension, sparse=True)\n",
    "        self.v_embeddings = nn.Embedding(emb_size, emb_dimension, sparse=True)\n",
    "\n",
    "        initrange = 1.0 / self.emb_dimension\n",
    "        init.uniform_(self.u_embeddings.weight.data, -initrange, initrange)\n",
    "        init.constant_(self.v_embeddings.weight.data, 0)\n",
    "\n",
    "    def forward(self, pos_u, pos_v, neg_v):\n",
    "        emb_u = self.u_embeddings(pos_u)\n",
    "        emb_v = self.v_embeddings(pos_v)\n",
    "        emb_neg_v = self.v_embeddings(neg_v)\n",
    "\n",
    "        score = torch.sum(torch.mul(emb_u, emb_v), dim=1)\n",
    "        score = torch.clamp(score, max=10, min=-10)\n",
    "        score = -F.logsigmoid(score)\n",
    "\n",
    "        neg_score = torch.bmm(emb_neg_v, emb_u.unsqueeze(2)).squeeze()\n",
    "        neg_score = torch.clamp(neg_score, max=10, min=-10)\n",
    "        neg_score = -torch.sum(F.logsigmoid(-neg_score), dim=1)\n",
    "\n",
    "        return torch.mean(score + neg_score)\n",
    "\n",
    "    def save_embedding(self, id2word, file_name):\n",
    "        embedding = self.u_embeddings.weight.cpu().data.numpy()\n",
    "        with open(file_name, 'w') as f:\n",
    "            f.write('%d %d\\n' % (len(id2word), self.emb_dimension))\n",
    "            for wid, w in id2word.items():\n",
    "                e = ' '.join(map(lambda x: str(x), embedding[wid]))\n",
    "                f.write('%s %s\\n' % (w, e))"
   ]
  },
  {
   "cell_type": "markdown",
   "id": "44f8be50-7c60-4378-a3ed-62cddcdc8592",
   "metadata": {},
   "source": [
    "### 主训练函数"
   ]
  },
  {
   "cell_type": "code",
   "execution_count": 89,
   "id": "cace78cb-cef1-4bb5-9411-1af47c9d2c05",
   "metadata": {},
   "outputs": [],
   "source": [
    "def train(skip_gram_model,\n",
    "          initial_lr,\n",
    "          triples,\n",
    "          epochs,\n",
    "          batch_size,\n",
    "          device,\n",
    "         ):\n",
    "    num_triples = len(triples)\n",
    "    optimizer = optim.SparseAdam(list(skip_gram_model.parameters()), lr=initial_lr)\n",
    "    scheduler = torch.optim.lr_scheduler.CosineAnnealingLR(optimizer, num_triples)\n",
    "\n",
    "    for epoch in range(epochs):\n",
    "        # print(\"\\n\\n\\nEpoch: \" + str(epoch + 1))\n",
    "        running_loss = 0.0\n",
    "        \n",
    "        for i in range(0, num_triples, batch_size):\n",
    "            triple_batch = triples[i: i + batch_size]\n",
    "            \n",
    "            pos_u = torch.from_numpy(triple_batch[:, 0]).to(device)\n",
    "            pos_v = torch.from_numpy(triple_batch[:, 1]).to(device)\n",
    "            neg_v = torch.from_numpy(triple_batch[:, 2:]).to(device)\n",
    "\n",
    "            scheduler.step()\n",
    "            optimizer.zero_grad()\n",
    "            loss = skip_gram_model.forward(pos_u, pos_v, neg_v)\n",
    "            loss.backward()\n",
    "            optimizer.step()\n",
    "\n",
    "            running_loss = running_loss * 0.9 + loss.item() * 0.1\n",
    "            \n",
    "        print(\"Epoch:{}, Loss: {:06f}\".format(epoch + 1, running_loss))\n",
    "\n",
    "    skip_gram_model.save_embedding(id2token, './embeddding.csv')"
   ]
  },
  {
   "cell_type": "markdown",
   "id": "a682c173-a580-48fc-ab8b-a9afe6e2f9f4",
   "metadata": {},
   "source": [
    "### 训练"
   ]
  },
  {
   "cell_type": "code",
   "execution_count": 90,
   "id": "2b1e8cb6-35b7-4c72-8dc1-00fe231da201",
   "metadata": {},
   "outputs": [
    {
     "name": "stdout",
     "output_type": "stream",
     "text": [
      "Epoch:1, Loss: 1.894531\n",
      "Epoch:2, Loss: 1.893107\n",
      "Epoch:3, Loss: 1.892189\n",
      "Epoch:4, Loss: 1.891924\n",
      "Epoch:5, Loss: 1.891845\n",
      "Epoch:6, Loss: 1.891230\n",
      "Epoch:7, Loss: 1.889468\n",
      "Epoch:8, Loss: 1.886198\n",
      "Epoch:9, Loss: 1.881736\n",
      "Epoch:10, Loss: 1.877505\n",
      "Epoch:11, Loss: 1.875108\n",
      "Epoch:12, Loss: 1.874575\n",
      "Epoch:13, Loss: 1.874240\n",
      "Epoch:14, Loss: 1.872174\n",
      "Epoch:15, Loss: 1.867163\n",
      "Epoch:16, Loss: 1.859132\n",
      "Epoch:17, Loss: 1.849731\n",
      "Epoch:18, Loss: 1.842076\n",
      "Epoch:19, Loss: 1.838397\n",
      "Epoch:20, Loss: 1.837768\n",
      "Epoch:21, Loss: 1.836858\n",
      "Epoch:22, Loss: 1.832464\n",
      "Epoch:23, Loss: 1.823120\n",
      "Epoch:24, Loss: 1.809769\n",
      "Epoch:25, Loss: 1.795894\n",
      "Epoch:26, Loss: 1.785906\n",
      "Epoch:27, Loss: 1.781785\n",
      "Epoch:28, Loss: 1.781222\n",
      "Epoch:29, Loss: 1.779425\n",
      "Epoch:30, Loss: 1.772401\n",
      "Epoch:31, Loss: 1.759014\n",
      "Epoch:32, Loss: 1.741598\n",
      "Epoch:33, Loss: 1.725156\n",
      "Epoch:34, Loss: 1.714505\n",
      "Epoch:35, Loss: 1.710734\n",
      "Epoch:36, Loss: 1.710249\n",
      "Epoch:37, Loss: 1.707377\n",
      "Epoch:38, Loss: 1.697999\n",
      "Epoch:39, Loss: 1.681747\n",
      "Epoch:40, Loss: 1.662245\n",
      "Epoch:41, Loss: 1.645295\n",
      "Epoch:42, Loss: 1.635333\n",
      "Epoch:43, Loss: 1.632341\n",
      "Epoch:44, Loss: 1.631824\n",
      "Epoch:45, Loss: 1.627859\n",
      "Epoch:46, Loss: 1.616746\n",
      "Epoch:47, Loss: 1.599057\n",
      "Epoch:48, Loss: 1.579313\n",
      "Epoch:49, Loss: 1.563399\n",
      "Epoch:50, Loss: 1.554901\n",
      "Epoch:51, Loss: 1.552778\n",
      "Epoch:52, Loss: 1.552085\n",
      "Epoch:53, Loss: 1.547152\n",
      "Epoch:54, Loss: 1.535036\n",
      "Epoch:55, Loss: 1.517191\n",
      "Epoch:56, Loss: 1.498561\n",
      "Epoch:57, Loss: 1.484581\n",
      "Epoch:58, Loss: 1.477818\n",
      "Epoch:59, Loss: 1.476448\n",
      "Epoch:60, Loss: 1.475461\n",
      "Epoch:61, Loss: 1.469785\n",
      "Epoch:62, Loss: 1.457359\n",
      "Epoch:63, Loss: 1.440321\n",
      "Epoch:64, Loss: 1.423623\n",
      "Epoch:65, Loss: 1.411937\n",
      "Epoch:66, Loss: 1.406850\n",
      "Epoch:67, Loss: 1.406026\n",
      "Epoch:68, Loss: 1.404688\n",
      "Epoch:69, Loss: 1.398534\n",
      "Epoch:70, Loss: 1.386361\n",
      "Epoch:71, Loss: 1.370749\n",
      "Epoch:72, Loss: 1.356342\n",
      "Epoch:73, Loss: 1.346937\n",
      "Epoch:74, Loss: 1.343291\n",
      "Epoch:75, Loss: 1.342803\n",
      "Epoch:76, Loss: 1.341112\n",
      "Epoch:77, Loss: 1.334736\n",
      "Epoch:78, Loss: 1.323220\n",
      "Epoch:79, Loss: 1.309342\n",
      "Epoch:80, Loss: 1.297258\n",
      "Epoch:81, Loss: 1.289912\n",
      "Epoch:82, Loss: 1.287411\n",
      "Epoch:83, Loss: 1.287081\n",
      "Epoch:84, Loss: 1.285075\n",
      "Epoch:85, Loss: 1.278697\n",
      "Epoch:86, Loss: 1.268077\n",
      "Epoch:87, Loss: 1.256012\n",
      "Epoch:88, Loss: 1.246085\n",
      "Epoch:89, Loss: 1.240482\n",
      "Epoch:90, Loss: 1.238836\n",
      "Epoch:91, Loss: 1.238539\n",
      "Epoch:92, Loss: 1.236279\n",
      "Epoch:93, Loss: 1.230061\n",
      "Epoch:94, Loss: 1.220451\n",
      "Epoch:95, Loss: 1.210124\n",
      "Epoch:96, Loss: 1.202092\n",
      "Epoch:97, Loss: 1.197902\n",
      "Epoch:98, Loss: 1.196865\n",
      "Epoch:99, Loss: 1.196516\n",
      "Epoch:100, Loss: 1.194068\n"
     ]
    }
   ],
   "source": [
    "# define model and training hyperparameters\n",
    "emb_size = num_tokens\n",
    "emb_dimension = 8\n",
    "batch_size = 4\n",
    "epochs = 100\n",
    "initial_lr = 1e-3\n",
    "skip_gram_model = SkipGramModel(emb_size, emb_dimension)\n",
    "\n",
    "use_cuda = torch.cuda.is_available()\n",
    "device = torch.device(\"cuda\" if use_cuda else \"cpu\")\n",
    "if use_cuda:\n",
    "    skip_gram_model.cuda()\n",
    "\n",
    "train(skip_gram_model, initial_lr, triple_cache, epochs, batch_size, device)"
   ]
  },
  {
   "cell_type": "code",
   "execution_count": null,
   "id": "16958afb-ed1d-4866-8058-ae74547d2bf6",
   "metadata": {},
   "outputs": [],
   "source": []
  }
 ],
 "metadata": {
  "kernelspec": {
   "display_name": "dgl:Python",
   "language": "python",
   "name": "conda-env-dgl-py"
  },
  "language_info": {
   "codemirror_mode": {
    "name": "ipython",
    "version": 3
   },
   "file_extension": ".py",
   "mimetype": "text/x-python",
   "name": "python",
   "nbconvert_exporter": "python",
   "pygments_lexer": "ipython3",
   "version": "3.9.13"
  }
 },
 "nbformat": 4,
 "nbformat_minor": 5
}
