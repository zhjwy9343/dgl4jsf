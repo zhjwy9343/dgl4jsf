{
 "cells": [
  {
   "cell_type": "markdown",
   "id": "e5c1943b-5002-4797-81cd-ff093ef96295",
   "metadata": {},
   "source": [
    "# Deep Graph Library(DGL) 基础"
   ]
  },
  {
   "cell_type": "markdown",
   "id": "b7907b8b-70e2-4454-ad08-251e5016bad2",
   "metadata": {},
   "source": [
    "Deep Graph Library (DGL)是一个简单通用的图深度学习的库，可以使用PyTorch，TensorFlow和MXNet作为后端框架。利用DGL，可以轻松编写和训练图神经网络，并用于与结构化数据相关的应用。DGL支持许多与图数据相关的功能，比如异质图、点云、小批量加载器和各种常用基准数据集等等。"
   ]
  },
  {
   "cell_type": "markdown",
   "id": "eb56a79f-4c21-4214-9719-6f1614cd8200",
   "metadata": {},
   "source": [
    "## DGL的安装"
   ]
  },
  {
   "cell_type": "markdown",
   "id": "b7c9f9d5-2955-49fe-9e5d-19616b54e702",
   "metadata": {},
   "source": [
    "现在DGL支持多种安装方法，见官网https://www.dgl.ai/pages/start.html 。我们推荐使用pip来安装DGL。\n",
    "\n",
    "注意：正确选择对应的计算机系统、CUDA或者CPU版本。\n",
    "\n",
    "`pip install dgl -f https://data.dgl.ai/wheels/repo.html`\n",
    "\n",
    "建议安装DGL最新版，当前是0.9版本，不过上面的命令会安装最新的版本；PyTorch建议1.10.0或更高版本。\n",
    "\n",
    "`pip install torch==1.10.0`"
   ]
  },
  {
   "cell_type": "markdown",
   "id": "fe3b1833-8212-4ced-827f-1e3a43af60cb",
   "metadata": {},
   "source": [
    "## DGL图的基本概念和操作"
   ]
  },
  {
   "cell_type": "markdown",
   "id": "a7176395-5de3-4a3b-8423-d6c00aca6bdb",
   "metadata": {},
   "source": [
    "实际业务中要处理的数据绝大部分是异构图。这里我们用下面这张图的异构图来作为例子演示如何构建异构的DGL图。\n",
    "\n",
    "<img src='heterogeneous_graph.png' width=40%>"
   ]
  },
  {
   "cell_type": "markdown",
   "id": "cab8fb1f-f320-4862-9813-345655748378",
   "metadata": {},
   "source": [
    "该图中包含了公司和产品这两种点，以及制造、下游、供应，一共3种关系。\n",
    "\n",
    "下面，我们将演示如何从数据中构建异质图。首先，我们从csv文件中读取数据，包括公司（node）信息和产品（node）信息，以及3种边（制造、下游、供应）的信息。"
   ]
  },
  {
   "cell_type": "code",
   "execution_count": 1,
   "id": "70951871-33bf-47a4-8d5a-3057ef86a239",
   "metadata": {},
   "outputs": [
    {
     "name": "stderr",
     "output_type": "stream",
     "text": [
      "/home/studio-lab-user/.conda/envs/dgl/lib/python3.9/site-packages/tqdm/auto.py:22: TqdmWarning: IProgress not found. Please update jupyter and ipywidgets. See https://ipywidgets.readthedocs.io/en/stable/user_install.html\n",
      "  from .autonotebook import tqdm as notebook_tqdm\n"
     ]
    },
    {
     "name": "stdout",
     "output_type": "stream",
     "text": [
      "Index(['CID', 'size'], dtype='object')\n",
      "Index(['PID', 'price'], dtype='object')\n"
     ]
    }
   ],
   "source": [
    "import pandas as pd\n",
    "import torch as th\n",
    "import dgl\n",
    "import numpy as np\n",
    "\n",
    "df_company     = pd.read_csv('raw_data/companies.csv')\n",
    "df_product     = pd.read_csv('raw_data/products.csv')\n",
    "df_produce     = pd.read_csv('raw_data/comp_produce_prod.csv')\n",
    "df_downstream  = pd.read_csv('raw_data/prod_downstream_prod.csv')\n",
    "df_supply      = pd.read_csv('raw_data/comp_supply_comp.csv')\n",
    "print(df_company.keys())\n",
    "print(df_product.keys())"
   ]
  },
  {
   "cell_type": "code",
   "execution_count": 2,
   "id": "d58e5452-567f-4320-a427-d407e2b66113",
   "metadata": {},
   "outputs": [
    {
     "data": {
      "text/html": [
       "<div>\n",
       "<style scoped>\n",
       "    .dataframe tbody tr th:only-of-type {\n",
       "        vertical-align: middle;\n",
       "    }\n",
       "\n",
       "    .dataframe tbody tr th {\n",
       "        vertical-align: top;\n",
       "    }\n",
       "\n",
       "    .dataframe thead th {\n",
       "        text-align: right;\n",
       "    }\n",
       "</style>\n",
       "<table border=\"1\" class=\"dataframe\">\n",
       "  <thead>\n",
       "    <tr style=\"text-align: right;\">\n",
       "      <th></th>\n",
       "      <th>PID</th>\n",
       "      <th>PID.1</th>\n",
       "    </tr>\n",
       "  </thead>\n",
       "  <tbody>\n",
       "    <tr>\n",
       "      <th>0</th>\n",
       "      <td>prod1_1</td>\n",
       "      <td>prod1_2</td>\n",
       "    </tr>\n",
       "    <tr>\n",
       "      <th>1</th>\n",
       "      <td>prod1_3</td>\n",
       "      <td>prod2_1</td>\n",
       "    </tr>\n",
       "    <tr>\n",
       "      <th>2</th>\n",
       "      <td>prod2_1</td>\n",
       "      <td>prod2_2</td>\n",
       "    </tr>\n",
       "    <tr>\n",
       "      <th>3</th>\n",
       "      <td>prod2_2</td>\n",
       "      <td>prod1_2</td>\n",
       "    </tr>\n",
       "    <tr>\n",
       "      <th>4</th>\n",
       "      <td>prod2_2</td>\n",
       "      <td>prod3_1</td>\n",
       "    </tr>\n",
       "  </tbody>\n",
       "</table>\n",
       "</div>"
      ],
      "text/plain": [
       "       PID    PID.1\n",
       "0  prod1_1  prod1_2\n",
       "1  prod1_3  prod2_1\n",
       "2  prod2_1  prod2_2\n",
       "3  prod2_2  prod1_2\n",
       "4  prod2_2  prod3_1"
      ]
     },
     "execution_count": 2,
     "metadata": {},
     "output_type": "execute_result"
    }
   ],
   "source": [
    "df_downstream.head()"
   ]
  },
  {
   "cell_type": "markdown",
   "id": "738bc466-51e1-4532-add2-f67208c8d3e6",
   "metadata": {},
   "source": [
    "### 将节点编号从0重排"
   ]
  },
  {
   "cell_type": "markdown",
   "id": "8b6c8ba0-e32f-45eb-8bca-aff08d2ca1d7",
   "metadata": {},
   "source": [
    "在DGL里，我们一般需要对对Node ID从0开始重新排序以满足DGL数据存储的特点。注意这里，公司和产品都从0开始设置ID。"
   ]
  },
  {
   "cell_type": "code",
   "execution_count": 3,
   "id": "4e9ec684-15a8-489b-a742-c64a643a5532",
   "metadata": {},
   "outputs": [],
   "source": [
    "company_mapping = {idx: i for i, idx in enumerate(df_company['CID'].unique())}\n",
    "num_companies = len(company_mapping)\n",
    "\n",
    "product_mapping = {idx: i for i, idx in enumerate(df_product['PID'].unique())}\n",
    "num_products = len(product_mapping)"
   ]
  },
  {
   "cell_type": "markdown",
   "id": "e32b5eae-d18b-42a0-b27c-8090606e4ba7",
   "metadata": {},
   "source": [
    "### 根据边列表创建图结构"
   ]
  },
  {
   "cell_type": "markdown",
   "id": "e15ab289-aebb-4f16-a7e1-1156b2bdc955",
   "metadata": {},
   "source": [
    "下面，我们创建边列表，由于图中包含制造、下游、供应3种边，为了进行区分，我们需要对每一种边都创建单独的列表，因此我们用字典来存储。"
   ]
  },
  {
   "cell_type": "code",
   "execution_count": 4,
   "id": "19ae7025-a51d-4c3b-aa2e-3ef52f6a4089",
   "metadata": {},
   "outputs": [],
   "source": [
    "edge_dict = {}\n",
    "\n",
    "# produce relation and its reversed edges\n",
    "src = [company_mapping[idx] for idx in df_produce['CID']] # 起始节点\n",
    "dst = [product_mapping[idx] for idx in df_produce['PID']] # 终止节点\n",
    "edge_dict['produce'] =  (th.tensor(src), th.tensor(dst))\n",
    "edge_dict['producedby'] =  (th.tensor(dst), th.tensor(src))\n",
    "\n",
    "# downstream relation and its reversed edges\n",
    "src = [product_mapping[idx] for idx in df_downstream['PID']] \n",
    "dst = [product_mapping[idx] for idx in df_downstream['PID.1']] \n",
    "edge_dict['downstream'] =  (th.tensor(src), th.tensor(dst))\n",
    "edge_dict['upstream'] =  (th.tensor(dst), th.tensor(src))\n",
    "          \n",
    "# supply relation and its reversed edges\n",
    "src = [company_mapping[idx] for idx in df_supply['CID']] \n",
    "dst = [company_mapping[idx] for idx in df_supply['CID']] \n",
    "edge_dict['supply'] =  (th.tensor(src), th.tensor(dst))\n",
    "edge_dict['suppliedby'] =  (th.tensor(dst), th.tensor(src))"
   ]
  },
  {
   "cell_type": "markdown",
   "id": "26bd8bcf-8b0a-43dd-8d6c-07c12dd0562a",
   "metadata": {},
   "source": [
    "DGL中，我们用dgl.heterograph(）建立异质图，其输入为包含边类型和边数据的字典。"
   ]
  },
  {
   "cell_type": "code",
   "execution_count": 5,
   "id": "41fa414f-5c0e-4d85-beef-f9fbaa89de93",
   "metadata": {},
   "outputs": [
    {
     "name": "stdout",
     "output_type": "stream",
     "text": [
      "Graph(num_nodes={'company': 3, 'product': 8},\n",
      "      num_edges={('company', 'produce', 'product'): 8, ('company', 'suppliedby', 'company'): 3, ('company', 'supply', 'company'): 3, ('product', 'downstream', 'product'): 7, ('product', 'producedby', 'company'): 8, ('product', 'upstream', 'product'): 7},\n",
      "      metagraph=[('company', 'product', 'produce'), ('company', 'company', 'suppliedby'), ('company', 'company', 'supply'), ('product', 'product', 'downstream'), ('product', 'product', 'upstream'), ('product', 'company', 'producedby')])\n"
     ]
    }
   ],
   "source": [
    "graph_data = {\n",
    "   ('company', 'produce', 'product'): edge_dict['produce'],\n",
    "   ('product', 'downstream', 'product'): edge_dict['downstream'],\n",
    "   ('company', 'supply', 'company'): edge_dict['supply'],\n",
    "   ('product', 'producedby', 'company'): edge_dict['producedby'],\n",
    "   ('product', 'upstream', 'product'): edge_dict['upstream'],\n",
    "   ('company', 'suppliedby', 'company'): edge_dict['suppliedby']    \n",
    "}\n",
    "g = dgl.heterograph(graph_data)\n",
    "print(g)"
   ]
  },
  {
   "cell_type": "code",
   "execution_count": 6,
   "id": "de0423ce-dd76-49ec-b988-ceada9275227",
   "metadata": {},
   "outputs": [
    {
     "data": {
      "text/plain": [
       "(tensor([0, 2, 3, 4, 4, 5, 6]),\n",
       " tensor([1, 3, 4, 1, 6, 4, 7]),\n",
       " tensor([0, 1, 2, 3, 4, 5, 6]))"
      ]
     },
     "execution_count": 6,
     "metadata": {},
     "output_type": "execute_result"
    }
   ],
   "source": [
    "g.edges('all', etype='downstream')"
   ]
  },
  {
   "cell_type": "code",
   "execution_count": 7,
   "id": "1195fe56-592c-4c9a-9f4d-1509d93f5932",
   "metadata": {},
   "outputs": [
    {
     "data": {
      "text/plain": [
       "(tensor([1, 3, 4, 1, 6, 4, 7]),\n",
       " tensor([0, 2, 3, 4, 4, 5, 6]),\n",
       " tensor([0, 1, 2, 3, 4, 5, 6]))"
      ]
     },
     "execution_count": 7,
     "metadata": {},
     "output_type": "execute_result"
    }
   ],
   "source": [
    "g.edges('all', etype='upstream')"
   ]
  },
  {
   "cell_type": "markdown",
   "id": "c1b79335-9596-4cec-a1c0-a46a79234f76",
   "metadata": {},
   "source": [
    "### 保存图"
   ]
  },
  {
   "cell_type": "code",
   "execution_count": 8,
   "id": "07b65300-f459-4132-8a45-635cbcd9218d",
   "metadata": {},
   "outputs": [],
   "source": [
    "from dgl.data.utils import save_graphs, load_graphs\n",
    "\n",
    "hetero_local_path = 'hetero_dgl.bin'\n",
    "save_graphs(hetero_local_path, [g])"
   ]
  },
  {
   "cell_type": "code",
   "execution_count": null,
   "id": "4c666cf8-ab22-42d5-8fbb-ea0c517ac40e",
   "metadata": {},
   "outputs": [],
   "source": []
  }
 ],
 "metadata": {
  "kernelspec": {
   "display_name": "dgl:Python",
   "language": "python",
   "name": "conda-env-dgl-py"
  },
  "language_info": {
   "codemirror_mode": {
    "name": "ipython",
    "version": 3
   },
   "file_extension": ".py",
   "mimetype": "text/x-python",
   "name": "python",
   "nbconvert_exporter": "python",
   "pygments_lexer": "ipython3",
   "version": "3.9.13"
  }
 },
 "nbformat": 4,
 "nbformat_minor": 5
}
