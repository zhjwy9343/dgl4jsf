{
 "cells": [
  {
   "cell_type": "markdown",
   "id": "5e3de7b7-db1f-420d-8253-290d28fbd8e9",
   "metadata": {},
   "source": [
    "# Node2Vec 示例\n",
    "\n",
    "针对同构图，我们使用Node2Vec的思路来进行无监督的学习。"
   ]
  },
  {
   "cell_type": "code",
   "execution_count": null,
   "id": "e3ab3256-a2d7-4cfd-8624-2e38b31c1a2c",
   "metadata": {},
   "outputs": [],
   "source": []
  }
 ],
 "metadata": {
  "kernelspec": {
   "display_name": "dgl:Python",
   "language": "python",
   "name": "conda-env-dgl-py"
  },
  "language_info": {
   "codemirror_mode": {
    "name": "ipython",
    "version": 3
   },
   "file_extension": ".py",
   "mimetype": "text/x-python",
   "name": "python",
   "nbconvert_exporter": "python",
   "pygments_lexer": "ipython3",
   "version": "3.9.13"
  }
 },
 "nbformat": 4,
 "nbformat_minor": 5
}
